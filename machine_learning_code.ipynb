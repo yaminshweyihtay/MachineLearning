{
 "cells": [
  {
   "cell_type": "code",
   "id": "2f7716fe-78f2-45b8-b3b8-b404d8279ef9",
   "metadata": {
    "tags": []
   },
   "source": [
    "import pandas as pd\n",
    "import numpy as np\n",
    "import seaborn as sns\n",
    "import matplotlib.pyplot as plt\n",
    "from sklearn.model_selection import train_test_split, cross_val_score, GridSearchCV\n",
    "from sklearn.pipeline import make_pipeline\n",
    "from sklearn.preprocessing import StandardScaler\n",
    "from sklearn.metrics import confusion_matrix, accuracy_score, classification_report\n",
    "from sklearn.svm import SVC\n",
    "from sklearn.ensemble import RandomForestClassifier\n",
    "\n",
    "%matplotlib inline"
   ],
   "outputs": [],
   "execution_count": null
  },
  {
   "cell_type": "markdown",
   "id": "d0797b41-3181-4aec-80d9-2320c3b2faf8",
   "metadata": {},
   "source": [
    "# Data Preprocessing"
   ]
  },
  {
   "cell_type": "code",
   "id": "cb1317e6-f4e0-40c4-99f1-61f77144c3df",
   "metadata": {
    "tags": []
   },
   "source": [
    "data = pd.read_csv('./Traffic_accidents.csv')\n",
    "data.info()"
   ],
   "outputs": [],
   "execution_count": null
  },
  {
   "cell_type": "code",
   "id": "717be0a2-753a-4613-be0e-f3c502c1c59a",
   "metadata": {
    "tags": []
   },
   "source": [
    "data.head(3)"
   ],
   "outputs": [],
   "execution_count": null
  },
  {
   "cell_type": "code",
   "id": "3500171b-266a-407a-a00c-bc799959fc8c",
   "metadata": {
    "tags": []
   },
   "source": [
    "data.isnull().sum()"
   ],
   "outputs": [],
   "execution_count": null
  },
  {
   "cell_type": "code",
   "id": "f8548302-2da7-4dbc-b4b5-f7837ab32e7a",
   "metadata": {
    "tags": []
   },
   "source": [
    "sns.heatmap(data == 0, yticklabels=False)"
   ],
   "outputs": [],
   "execution_count": null
  },
  {
   "cell_type": "code",
   "id": "f9662966-70e5-4f77-a7b0-e348bef8c136",
   "metadata": {
    "tags": []
   },
   "source": [
    "data.drop(['OBJECTID', 'DATE_', 'TIME', 'SEVERITY_DESCRIPTION', 'CASUALTIES', 'ACCIDENT_TYPE',\n",
    "           'ACCIDENT_DESCRIPTION', 'X', 'Y', 'RENDER'], axis=1, inplace=True)\n",
    "# converting fatal collisions to serious\n",
    "data['SEVERITY'] = data['SEVERITY'].replace(1, 2)\n",
    "data.head(3)"
   ],
   "outputs": [],
   "execution_count": null
  },
  {
   "metadata": {},
   "cell_type": "code",
   "source": [
    "slight = pd.get_dummies(data[\"SEVERITY\"], dtype=int, drop_first=True)\n",
    "data = pd.concat([data, slight], axis=1)\n",
    "data.drop(['SEVERITY'], axis=1, inplace=True)\n",
    "data.rename(columns={3: 'Severe'}, inplace=True)\n",
    "# inverting the severe column\n",
    "data['Severe'] = data['Severe'] ^ 1\n",
    "data.head(30)\n"
   ],
   "id": "5d5270b682debaa8",
   "outputs": [],
   "execution_count": null
  },
  {
   "metadata": {},
   "cell_type": "markdown",
   "source": "<h1> Balancing the dataset </h1>",
   "id": "68b5a710676193a2"
  },
  {
   "metadata": {},
   "cell_type": "code",
   "source": [
    "# Counting the occurrences of each class\n",
    "class_counts = data['Severe'].value_counts()\n",
    "\n",
    "minority_class_label = class_counts.idxmin()\n",
    "majority_class_label = class_counts.idxmax()\n",
    "\n",
    "majority_class_indices = data[data['Severe'] == majority_class_label].index\n",
    "\n",
    "num_samples_minority_class = class_counts[minority_class_label]\n",
    "\n",
    "undersampled_majority_indices = data[data['Severe'] == majority_class_label].sample(n=num_samples_minority_class,\n",
    "                                                                                    random_state=42).index\n",
    "\n",
    "undersampled_indices = data[data['Severe'] == minority_class_label].index.union(undersampled_majority_indices)\n",
    "\n",
    "undersampled_data = data.loc[undersampled_indices]\n",
    "\n",
    "undersampled_data.head(145)\n",
    "\n",
    "data = undersampled_data\n",
    "data.head(10)"
   ],
   "id": "2d9b56421333e47b",
   "outputs": [],
   "execution_count": null
  },
  {
   "cell_type": "markdown",
   "id": "d2ab2fe7-7067-43d6-be03-475d631e9913",
   "metadata": {},
   "source": [
    "# Performance Evaluation Functions"
   ]
  },
  {
   "cell_type": "code",
   "id": "9370f6ad-d2bc-4f08-9f23-ab04190778e5",
   "metadata": {
    "tags": []
   },
   "source": [
    "def plot_dataset(X, y, axes):\n",
    "    plt.plot(X[:, 0][y == 0], X[:, 1][y == 0], \"bs\")\n",
    "    plt.plot(X[:, 0][y == 1], X[:, 1][y == 1], \"g^\")\n",
    "    plt.axis(axes)\n",
    "    plt.grid(True, which='both')\n",
    "    plt.xlabel(r\"$Age$\", fontsize=15)\n",
    "    plt.ylabel(r\"$Glucose$\", fontsize=15, rotation=90)"
   ],
   "outputs": [],
   "execution_count": null
  },
  {
   "cell_type": "markdown",
   "id": "359891c2",
   "metadata": {},
   "source": []
  },
  {
   "cell_type": "code",
   "id": "6d1905ba-2c87-4955-a693-0dfe8b5e2c62",
   "metadata": {
    "tags": []
   },
   "source": [
    "results = []\n",
    "\n",
    "\n",
    "def add_results(result):\n",
    "    results.append(result)\n",
    "\n",
    "\n",
    "def get_results():\n",
    "    print(\"Model, Test Avg. Accuracy, Test Avg. Precision\")\n",
    "    return results"
   ],
   "outputs": [],
   "execution_count": null
  },
  {
   "cell_type": "code",
   "id": "c97e4796-8ab9-4fae-9245-71bc7ed20753",
   "metadata": {
    "tags": []
   },
   "source": [
    "def evaluate_model(model):\n",
    "    y_pred = model.predict(X_test)\n",
    "    matrix = confusion_matrix(y_test, y_pred)\n",
    "    class_report = classification_report(y_test, y_pred)\n",
    "    accu_score = accuracy_score(y_test, y_pred)\n",
    "    scores = cross_val_score(model, X_train, y_train, scoring='accuracy', cv=10, n_jobs=-1)\n",
    "    print(\"\\nConfusion Matrix:\")\n",
    "    print(matrix)\n",
    "    print(\"\\nClassification Report:\")\n",
    "    print(class_report)\n",
    "    print(\"\\nAccuracy Score\")\n",
    "    print(accu_score)\n",
    "    print(\"\\n\")\n",
    "    print('\\nAverage accuracy: ', np.mean(scores))\n",
    "\n",
    "    # doing k fold cross validation for precision\n",
    "    scores_test = cross_val_score(model, X_test, y_test, scoring='accuracy', cv=10, n_jobs=-1)\n",
    "\n",
    "    print('\\nTest average accuracy: ', np.mean(scores_test))\n",
    "\n",
    "    scores = cross_val_score(model, X_train, y_train, scoring='precision_macro', cv=10, n_jobs=-1)\n",
    "    # print the average score\n",
    "    print('\\nAverage precision: ', scores.mean())\n",
    "\n",
    "    # doing k fold cross validation for accuracy\n",
    "    scores_test = cross_val_score(model, X_test, y_test, scoring='precision_macro', cv=10, n_jobs=-1)\n",
    "\n",
    "    print('\\nTest average precision: ', scores_test.mean())"
   ],
   "outputs": [],
   "execution_count": null
  },
  {
   "cell_type": "markdown",
   "id": "0da82dbd",
   "metadata": {},
   "source": [
    "<h1> Splitting dataset </h1>"
   ]
  },
  {
   "cell_type": "code",
   "id": "7bb200d7",
   "metadata": {
    "tags": []
   },
   "source": [
    "X = data.drop(['Severe'], axis=1)\n",
    "y = data['Severe']\n",
    "X_train, X_test, y_train, y_test = train_test_split(X, y, test_size=0.3, random_state=0)"
   ],
   "outputs": [],
   "execution_count": null
  },
  {
   "cell_type": "markdown",
   "id": "7ae30022",
   "metadata": {},
   "source": [
    "<h1> Support Vector Machine </h1>"
   ]
  },
  {
   "cell_type": "code",
   "id": "80354bec",
   "metadata": {
    "tags": []
   },
   "source": [
    "linear_svm_model = SVC(kernel='linear', random_state=0)\n",
    "linear_svm_pipeline = make_pipeline(StandardScaler(), linear_svm_model)\n",
    "\n",
    "poly_svm_model = SVC(kernel='poly', random_state=0)\n",
    "poly_svm_pipeline = make_pipeline(StandardScaler(), poly_svm_model)\n",
    "\n",
    "rbf_svm_model = SVC(kernel='rbf', random_state=0)\n",
    "rbf_svm_pipeline = make_pipeline(StandardScaler(), rbf_svm_model)\n"
   ],
   "outputs": [],
   "execution_count": null
  },
  {
   "cell_type": "code",
   "id": "4941cd40",
   "metadata": {
    "tags": []
   },
   "source": [
    "linear_svm_pipeline.fit(X_train, y_train)\n",
    "poly_svm_pipeline.fit(X_train, y_train)\n",
    "rbf_svm_pipeline.fit(X_train, y_train)"
   ],
   "outputs": [],
   "execution_count": null
  },
  {
   "cell_type": "code",
   "id": "1e3f5a4a",
   "metadata": {},
   "source": [
    "print(\"Linear Support Vector Machine:\")\n",
    "evaluate_model(model=linear_svm_pipeline)"
   ],
   "outputs": [],
   "execution_count": null
  },
  {
   "cell_type": "code",
   "id": "9b39cbe50dbe8e50",
   "metadata": {},
   "source": [
    "print(\"Polynomial Support Vector Machine:\")\n",
    "evaluate_model(model=poly_svm_pipeline)"
   ],
   "outputs": [],
   "execution_count": null
  },
  {
   "cell_type": "code",
   "id": "76792194cc47915",
   "metadata": {},
   "source": [
    "print(\"Radial Basis Function Support Vector Machine:\")\n",
    "evaluate_model(model=rbf_svm_pipeline)"
   ],
   "outputs": [],
   "execution_count": null
  },
  {
   "cell_type": "markdown",
   "id": "dbbb4bdec60ea8f3",
   "metadata": {},
   "source": [
    "<h1> Hyperparameter Tuning: </h1>"
   ]
  },
  {
   "cell_type": "markdown",
   "id": "b2cfb3ca03cb859d",
   "metadata": {},
   "source": [
    "<h2> Linear Kernel Tuning: </h2>"
   ]
  },
  {
   "cell_type": "markdown",
   "id": "a56a064007ebb926",
   "metadata": {},
   "source": [
    "<p> Narrowing Down on best C hyper parameter </p>"
   ]
  },
  {
   "cell_type": "code",
   "id": "3a2a7db8ee72b0d6",
   "metadata": {},
   "source": [
    "parameter_grid = {'C': [0.001, 0.01, 0.1, 1, 10, 100, 1000]}\n",
    "grid_search = GridSearchCV(estimator=linear_svm_model, param_grid=parameter_grid, scoring='accuracy', n_jobs=- 1)\n",
    "grid_search.fit(X_train, y_train)\n",
    "print(\"Best Parameters\", grid_search.best_params_)"
   ],
   "outputs": [],
   "execution_count": null
  },
  {
   "metadata": {},
   "cell_type": "code",
   "source": [
    "parameter_grid = {'C': np.linspace(0.1, 10, num=100, dtype=float)}\n",
    "\n",
    "grid_search = GridSearchCV(estimator=linear_svm_model, param_grid=parameter_grid, scoring='accuracy', n_jobs=- 1)\n",
    "grid_search.fit(X_train, y_train)\n",
    "print(\"Best Parameters\", grid_search.best_params_)"
   ],
   "id": "d85166a2b7cb09d8",
   "outputs": [],
   "execution_count": null
  },
  {
   "cell_type": "markdown",
   "id": "8eec85eac01c69d4",
   "metadata": {},
   "source": "Best hyper parameters for linear kernel is 3 for the C hyper parameter."
  },
  {
   "cell_type": "markdown",
   "id": "3d06c4866428adb",
   "metadata": {},
   "source": [
    "<h2> Polynomial kernel tuning: </h2>"
   ]
  },
  {
   "metadata": {},
   "cell_type": "code",
   "source": [
    "parameter_grid = {'C': [0.001, 0.01, 0.1, 1, 10, 100],\n",
    "                  'degree': [1, 2, 3, 4],\n",
    "                  'gamma': [0.01, 0.1, 1, 10]}\n",
    "grid_search = GridSearchCV(estimator=poly_svm_model, param_grid=parameter_grid, scoring='accuracy', cv=3, n_jobs=- 1,\n",
    "                           verbose=2)\n",
    "grid_search.fit(X_train, y_train)\n",
    "print(\"Best Parameters\", grid_search.best_params_)"
   ],
   "id": "878003ea820bebcb",
   "outputs": [],
   "execution_count": null
  },
  {
   "cell_type": "markdown",
   "id": "2873569d354983e5",
   "metadata": {},
   "source": [
    "The best hyperparameters found for the polynomial kernel are: \n",
    "C = 0.01\n",
    "degree = 2\n",
    "gamma = 1\n"
   ]
  },
  {
   "cell_type": "markdown",
   "id": "dc2ef8619eae97c9",
   "metadata": {},
   "source": [
    "<h2> Radial Basis Function kernel tuning: </h2>"
   ]
  },
  {
   "cell_type": "code",
   "id": "45c32f4a1ca1853e",
   "metadata": {
    "tags": []
   },
   "source": [
    "parameter_grid = {'C': [0.01, 0.1, 1, 1, 10, 100, 1000], 'gamma': [0.001, 0.01, 0.1, 1, 10, 100, 1000]}\n",
    "grid_search = GridSearchCV(estimator=rbf_svm_model, param_grid=parameter_grid, scoring='accuracy', cv=3, n_jobs=- 1)\n",
    "grid_search.fit(X_train, y_train)\n",
    "print(\"Best Parameters\", grid_search.best_params_)"
   ],
   "outputs": [],
   "execution_count": null
  },
  {
   "metadata": {},
   "cell_type": "code",
   "source": [
    "parameter_grid = {'C': np.linspace(1, 100, num=100, dtype=float), 'gamma': np.linspace(0.01, 1, num=100, dtype=float)}\n",
    "grid_search = GridSearchCV(estimator=rbf_svm_model, param_grid=parameter_grid, scoring='accuracy', cv=3, n_jobs=- 1)\n",
    "grid_search.fit(X_train, y_train)\n",
    "print(\"Best Parameters\", grid_search.best_params_)"
   ],
   "id": "92c8066737d6a6ff",
   "outputs": [],
   "execution_count": null
  },
  {
   "metadata": {},
   "cell_type": "markdown",
   "source": "The best hyperparameters found for the Radial Basis Function Kernel are: C = 18.0, gamma = 0.09",
   "id": "e680db40cb05b4b3"
  },
  {
   "metadata": {},
   "cell_type": "markdown",
   "source": [
    "<p>Linear Kernel: C = 3</p>\n",
    "<p>Poly Kernel: C = 0.01, gamma = 1, degree = 2</p>\n",
    "<p>RBF Kernel:  C = 18.0, gamma = 0.09</p>"
   ],
   "id": "c67d8c445ead4cf7"
  },
  {
   "metadata": {},
   "cell_type": "markdown",
   "source": "<h1> Tuned Support Vector Machine Model Evaluation: </h1>",
   "id": "80f1fbb761964dff"
  },
  {
   "metadata": {},
   "cell_type": "code",
   "source": [
    "linear_svm_model = SVC(kernel='linear', C=3, random_state=0)\n",
    "linear_svm_pipeline = make_pipeline(StandardScaler(), linear_svm_model)\n",
    "\n",
    "poly_svm_model = SVC(kernel='poly', C=0.01, gamma=1, degree=2, random_state=0)\n",
    "poly_svm_pipeline = make_pipeline(StandardScaler(), poly_svm_model)\n",
    "\n",
    "rbf_svm_model = SVC(kernel='rbf', C=18.0, gamma=0.09, random_state=0)\n",
    "rbf_svm_pipeline = make_pipeline(StandardScaler(), rbf_svm_model)"
   ],
   "id": "23b2e606a9d870f5",
   "outputs": [],
   "execution_count": null
  },
  {
   "metadata": {},
   "cell_type": "code",
   "source": [
    "linear_svm_pipeline.fit(X_train, y_train)\n",
    "poly_svm_pipeline.fit(X_train, y_train)\n",
    "rbf_svm_pipeline.fit(X_train, y_train)"
   ],
   "id": "66f63439bff3c295",
   "outputs": [],
   "execution_count": null
  },
  {
   "metadata": {},
   "cell_type": "code",
   "source": [
    "print(\"Tuned Linear Support Vector Machine:\")\n",
    "evaluate_model(model=linear_svm_pipeline)"
   ],
   "id": "63fd0f5d9f83c4b1",
   "outputs": [],
   "execution_count": null
  },
  {
   "metadata": {},
   "cell_type": "code",
   "source": [
    "print(\"Tuned Polynomial Support Vector Machine:\")\n",
    "evaluate_model(model=poly_svm_pipeline)"
   ],
   "id": "97f8e88074def658",
   "outputs": [],
   "execution_count": null
  },
  {
   "metadata": {},
   "cell_type": "code",
   "source": [
    "print(\"Tuned Radial Basis Function Support Vector Machine:\")\n",
    "evaluate_model(model=rbf_svm_pipeline)"
   ],
   "id": "b32dbb408648d52f",
   "outputs": [],
   "execution_count": null
  },
  {
   "metadata": {},
   "cell_type": "markdown",
   "source": [
    "Overall the support vector machine with the radial basis function kernel performed the best once tuned over all the other kernels.\n",
    "With the average accuracy and test average accuracy greater than any other kernel. The radial basis function kernel also had the highest f1-score of all of the other kernels."
   ],
   "id": "9a6d102894d450e7"
  },
  {
   "metadata": {},
   "cell_type": "markdown",
   "source": "<h1> Ensemble model testing: </h1>",
   "id": "f91283f380c1e87"
  },
  {
   "metadata": {},
   "cell_type": "code",
   "source": [
    "ensemble_model = RandomForestClassifier(random_state=0, n_jobs=-1)\n",
    "ensemble_pipe_line = make_pipeline(StandardScaler(), ensemble_model)\n",
    "ensemble_pipe_line.fit(X_train, y_train)"
   ],
   "id": "4e59b0d3c97e1d27",
   "outputs": [],
   "execution_count": null
  },
  {
   "metadata": {},
   "cell_type": "code",
   "source": "evaluate_model(ensemble_pipe_line)",
   "id": "75fb41b991b65b9a",
   "outputs": [],
   "execution_count": null
  },
  {
   "metadata": {},
   "cell_type": "markdown",
   "source": "<h2> Tuning ensemble hyperparameters: </h2> ",
   "id": "7423da0eb5520580"
  },
  {
   "metadata": {},
   "cell_type": "code",
   "source": [
    "parameter_grid = {\n",
    "    'n_estimators': [25, 50, 100, 150],\n",
    "    'max_features': ['sqrt', 'log2', None],\n",
    "    'max_depth': [3, 6, 9],\n",
    "    'max_leaf_nodes': [3, 6, 9],\n",
    "}\n",
    "\n",
    "random_search = GridSearchCV(estimator=ensemble_model, param_grid=parameter_grid,\n",
    "                             cv=3, scoring='accuracy', n_jobs=- 1)\n",
    "random_search.fit(X_train, y_train)\n",
    "print(\"Best Parameters\", random_search.best_params_)"
   ],
   "id": "9768e87c4e2e512b",
   "outputs": [],
   "execution_count": null
  },
  {
   "metadata": {},
   "cell_type": "code",
   "source": [
    "ensemble_model = RandomForestClassifier(max_depth=3, max_features='sqrt', max_leaf_nodes=9, n_estimators=25,\n",
    "                                        random_state=0, n_jobs=-1)\n",
    "ensemble_pipe_line = make_pipeline(StandardScaler(), ensemble_model)\n",
    "ensemble_pipe_line.fit(X_train, y_train)"
   ],
   "id": "9fa17428f306af6",
   "outputs": [],
   "execution_count": null
  },
  {
   "metadata": {},
   "cell_type": "code",
   "source": "evaluate_model(ensemble_pipe_line)",
   "id": "b58a4cedbab65fe",
   "outputs": [],
   "execution_count": null
  },
  {
   "metadata": {},
   "cell_type": "markdown",
   "source": "<h1> Final Results: </h1>",
   "id": "bd34af09cfb57e7f"
  },
  {
   "metadata": {},
   "cell_type": "markdown",
   "source": [
    "<p> The best model was the ensemble model, giving a higher average and test average accuracy / precision than the runner up model being the radial basis function support vector machine </p>\n",
    "<p> Ensemble model: average accuracy = 0.619, test average accuracy = 0.609, average precision = 0.624, test average precision = 0.616</p>\n",
    "<p> Radial Basis Function SVM: average accuracy = 0.618, test average accuracy = 0.597, average precision = 0.624, test average precision = 0. 602</p>\n",
    "<p> The f1-score for the ensemble model was higher overall with class 0 being 0.65 and class 1 being 0.64, compared to the svm which got an f1 score for class 0 of 0.62 and an f1 score for class 1 of 0.65 </p>\n",
    "<p> Overall the accuracies are relativley low, probabbly due to the lack of serious and fatal collisions in the dataset forcing undersampling of slight collisions </p>"
   ],
   "id": "279ad3fb4ca57423"
  },
  {
   "metadata": {},
   "cell_type": "code",
   "source": "",
   "id": "4081ac7561dd012d",
   "outputs": [],
   "execution_count": null
  }
 ],
 "metadata": {
  "kernelspec": {
   "display_name": "Python 3 (ipykernel)",
   "language": "python",
   "name": "python3"
  },
  "language_info": {
   "codemirror_mode": {
    "name": "ipython",
    "version": 3
   },
   "file_extension": ".py",
   "mimetype": "text/x-python",
   "name": "python",
   "nbconvert_exporter": "python",
   "pygments_lexer": "ipython3",
   "version": "3.8.10"
  }
 },
 "nbformat": 4,
 "nbformat_minor": 5
}
