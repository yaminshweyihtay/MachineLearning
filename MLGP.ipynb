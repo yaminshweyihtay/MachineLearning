{
 "cells": [
  {
   "cell_type": "markdown",
   "id": "7e8ad5d6-5ebe-4a68-8ba6-293068fc4b9d",
   "metadata": {
    "tags": []
   },
   "source": [
    "## 1.DATA ANALYSIS"
   ]
  },
  {
   "cell_type": "markdown",
   "id": "7684140f-bfbd-4106-991d-0d96622c78fa",
   "metadata": {
    "tags": []
   },
   "source": [
    "#### 1.1.Importing All the Libraries"
   ]
  },
  {
   "cell_type": "code",
   "execution_count": 1,
   "id": "75d1bb01-3c65-4155-a282-3375cb7ed0df",
   "metadata": {},
   "outputs": [],
   "source": [
    "import pandas as pd\n",
    "import numpy as np\n",
    "import seaborn as sns\n",
    "import seaborn as sns\n",
    "import matplotlib.pyplot as plt\n",
    "import math\n",
    "import sklearn\n",
    "\n",
    "#import python as py\n",
    "%matplotlib inline"
   ]
  },
  {
   "cell_type": "code",
   "execution_count": 2,
   "id": "5d17419b-3a9f-4421-bfcc-e86437210bbe",
   "metadata": {
    "tags": []
   },
   "outputs": [
    {
     "data": {
      "text/html": [
       "<div>\n",
       "<style scoped>\n",
       "    .dataframe tbody tr th:only-of-type {\n",
       "        vertical-align: middle;\n",
       "    }\n",
       "\n",
       "    .dataframe tbody tr th {\n",
       "        vertical-align: top;\n",
       "    }\n",
       "\n",
       "    .dataframe thead th {\n",
       "        text-align: right;\n",
       "    }\n",
       "</style>\n",
       "<table border=\"1\" class=\"dataframe\">\n",
       "  <thead>\n",
       "    <tr style=\"text-align: right;\">\n",
       "      <th></th>\n",
       "      <th>OBJECTID</th>\n",
       "      <th>DATE_</th>\n",
       "      <th>TIME</th>\n",
       "      <th>SEVERITY</th>\n",
       "      <th>SEVERITY_DESCRIPTION</th>\n",
       "      <th>ACCIDENT_TYPE</th>\n",
       "      <th>ACCIDENT_DESCRIPTION</th>\n",
       "      <th>VEHICLES</th>\n",
       "      <th>CASUALTIES</th>\n",
       "      <th>PEDESTRIAN</th>\n",
       "      <th>CYCLES</th>\n",
       "      <th>MCYCLES</th>\n",
       "      <th>CHILDREN</th>\n",
       "      <th>OAPS</th>\n",
       "      <th>X</th>\n",
       "      <th>Y</th>\n",
       "      <th>RENDER</th>\n",
       "    </tr>\n",
       "  </thead>\n",
       "  <tbody>\n",
       "    <tr>\n",
       "      <th>0</th>\n",
       "      <td>1</td>\n",
       "      <td>2017/02/02 00:00:00+00</td>\n",
       "      <td>720</td>\n",
       "      <td>3</td>\n",
       "      <td>Slight</td>\n",
       "      <td>LC</td>\n",
       "      <td>Loss of Control</td>\n",
       "      <td>2</td>\n",
       "      <td>2</td>\n",
       "      <td>0</td>\n",
       "      <td>1</td>\n",
       "      <td>1</td>\n",
       "      <td>0</td>\n",
       "      <td>0</td>\n",
       "      <td>360035</td>\n",
       "      <td>175918</td>\n",
       "      <td>CYC</td>\n",
       "    </tr>\n",
       "    <tr>\n",
       "      <th>1</th>\n",
       "      <td>2</td>\n",
       "      <td>2017/02/02 00:00:00+00</td>\n",
       "      <td>1803</td>\n",
       "      <td>3</td>\n",
       "      <td>Slight</td>\n",
       "      <td>J</td>\n",
       "      <td>Turning movement ¿ unidentified priority</td>\n",
       "      <td>2</td>\n",
       "      <td>1</td>\n",
       "      <td>0</td>\n",
       "      <td>1</td>\n",
       "      <td>0</td>\n",
       "      <td>0</td>\n",
       "      <td>0</td>\n",
       "      <td>359039</td>\n",
       "      <td>172053</td>\n",
       "      <td>CYC</td>\n",
       "    </tr>\n",
       "    <tr>\n",
       "      <th>2</th>\n",
       "      <td>3</td>\n",
       "      <td>2017/02/03 00:00:00+00</td>\n",
       "      <td>2021</td>\n",
       "      <td>3</td>\n",
       "      <td>Slight</td>\n",
       "      <td>J2</td>\n",
       "      <td>Turning Movement from minor road</td>\n",
       "      <td>2</td>\n",
       "      <td>1</td>\n",
       "      <td>0</td>\n",
       "      <td>1</td>\n",
       "      <td>0</td>\n",
       "      <td>0</td>\n",
       "      <td>0</td>\n",
       "      <td>362596</td>\n",
       "      <td>175377</td>\n",
       "      <td>CYC</td>\n",
       "    </tr>\n",
       "    <tr>\n",
       "      <th>3</th>\n",
       "      <td>4</td>\n",
       "      <td>2017/02/03 00:00:00+00</td>\n",
       "      <td>1543</td>\n",
       "      <td>3</td>\n",
       "      <td>Slight</td>\n",
       "      <td>NT</td>\n",
       "      <td>Nose to Tail</td>\n",
       "      <td>2</td>\n",
       "      <td>2</td>\n",
       "      <td>0</td>\n",
       "      <td>0</td>\n",
       "      <td>0</td>\n",
       "      <td>0</td>\n",
       "      <td>0</td>\n",
       "      <td>355175</td>\n",
       "      <td>175088</td>\n",
       "      <td>CARS</td>\n",
       "    </tr>\n",
       "    <tr>\n",
       "      <th>4</th>\n",
       "      <td>5</td>\n",
       "      <td>2017/01/17 00:00:00+00</td>\n",
       "      <td>624</td>\n",
       "      <td>3</td>\n",
       "      <td>Slight</td>\n",
       "      <td>A</td>\n",
       "      <td>Adult pedestrian</td>\n",
       "      <td>1</td>\n",
       "      <td>1</td>\n",
       "      <td>1</td>\n",
       "      <td>0</td>\n",
       "      <td>0</td>\n",
       "      <td>0</td>\n",
       "      <td>0</td>\n",
       "      <td>359476</td>\n",
       "      <td>172742</td>\n",
       "      <td>A</td>\n",
       "    </tr>\n",
       "  </tbody>\n",
       "</table>\n",
       "</div>"
      ],
      "text/plain": [
       "   OBJECTID                   DATE_  TIME  SEVERITY SEVERITY_DESCRIPTION  \\\n",
       "0         1  2017/02/02 00:00:00+00   720         3               Slight   \n",
       "1         2  2017/02/02 00:00:00+00  1803         3               Slight   \n",
       "2         3  2017/02/03 00:00:00+00  2021         3               Slight   \n",
       "3         4  2017/02/03 00:00:00+00  1543         3               Slight   \n",
       "4         5  2017/01/17 00:00:00+00   624         3               Slight   \n",
       "\n",
       "  ACCIDENT_TYPE                      ACCIDENT_DESCRIPTION  VEHICLES  \\\n",
       "0            LC                           Loss of Control         2   \n",
       "1             J  Turning movement ¿ unidentified priority         2   \n",
       "2            J2          Turning Movement from minor road         2   \n",
       "3            NT                              Nose to Tail         2   \n",
       "4             A                          Adult pedestrian         1   \n",
       "\n",
       "   CASUALTIES  PEDESTRIAN  CYCLES  MCYCLES  CHILDREN  OAPS       X       Y  \\\n",
       "0           2           0       1        1         0     0  360035  175918   \n",
       "1           1           0       1        0         0     0  359039  172053   \n",
       "2           1           0       1        0         0     0  362596  175377   \n",
       "3           2           0       0        0         0     0  355175  175088   \n",
       "4           1           1       0        0         0     0  359476  172742   \n",
       "\n",
       "  RENDER  \n",
       "0    CYC  \n",
       "1    CYC  \n",
       "2    CYC  \n",
       "3   CARS  \n",
       "4      A  "
      ]
     },
     "execution_count": 2,
     "metadata": {},
     "output_type": "execute_result"
    }
   ],
   "source": [
    "Traffic_data = pd.read_csv ('Traffic_accidents.csv') #reading the csv file into Dataframe\n",
    "Traffic_data.head(5) #displaying the first 5 rows of the data"
   ]
  },
  {
   "cell_type": "code",
   "execution_count": 3,
   "id": "91fd1132-d42d-4d6a-9464-51636af78e71",
   "metadata": {
    "tags": []
   },
   "outputs": [
    {
     "data": {
      "text/html": [
       "<div>\n",
       "<style scoped>\n",
       "    .dataframe tbody tr th:only-of-type {\n",
       "        vertical-align: middle;\n",
       "    }\n",
       "\n",
       "    .dataframe tbody tr th {\n",
       "        vertical-align: top;\n",
       "    }\n",
       "\n",
       "    .dataframe thead th {\n",
       "        text-align: right;\n",
       "    }\n",
       "</style>\n",
       "<table border=\"1\" class=\"dataframe\">\n",
       "  <thead>\n",
       "    <tr style=\"text-align: right;\">\n",
       "      <th></th>\n",
       "      <th>OBJECTID</th>\n",
       "      <th>DATE_</th>\n",
       "      <th>TIME</th>\n",
       "      <th>SEVERITY</th>\n",
       "      <th>SEVERITY_DESCRIPTION</th>\n",
       "      <th>ACCIDENT_TYPE</th>\n",
       "      <th>ACCIDENT_DESCRIPTION</th>\n",
       "      <th>VEHICLES</th>\n",
       "      <th>CASUALTIES</th>\n",
       "      <th>PEDESTRIAN</th>\n",
       "      <th>CYCLES</th>\n",
       "      <th>MCYCLES</th>\n",
       "      <th>CHILDREN</th>\n",
       "      <th>OAPS</th>\n",
       "      <th>X</th>\n",
       "      <th>Y</th>\n",
       "      <th>RENDER</th>\n",
       "    </tr>\n",
       "  </thead>\n",
       "  <tbody>\n",
       "    <tr>\n",
       "      <th>4260</th>\n",
       "      <td>4261</td>\n",
       "      <td>2021/02/05 00:00:00+00</td>\n",
       "      <td>1911</td>\n",
       "      <td>3</td>\n",
       "      <td>Slight</td>\n",
       "      <td>NT</td>\n",
       "      <td>Nose to Tail</td>\n",
       "      <td>3</td>\n",
       "      <td>1</td>\n",
       "      <td>0</td>\n",
       "      <td>0</td>\n",
       "      <td>0</td>\n",
       "      <td>0</td>\n",
       "      <td>0</td>\n",
       "      <td>362456</td>\n",
       "      <td>170250</td>\n",
       "      <td>CARS</td>\n",
       "    </tr>\n",
       "    <tr>\n",
       "      <th>4261</th>\n",
       "      <td>4262</td>\n",
       "      <td>2020/10/03 23:00:00+00</td>\n",
       "      <td>1100</td>\n",
       "      <td>2</td>\n",
       "      <td>Serious</td>\n",
       "      <td>NONE</td>\n",
       "      <td>Other</td>\n",
       "      <td>1</td>\n",
       "      <td>1</td>\n",
       "      <td>0</td>\n",
       "      <td>0</td>\n",
       "      <td>0</td>\n",
       "      <td>0</td>\n",
       "      <td>0</td>\n",
       "      <td>357383</td>\n",
       "      <td>179050</td>\n",
       "      <td>CARS</td>\n",
       "    </tr>\n",
       "    <tr>\n",
       "      <th>4262</th>\n",
       "      <td>4263</td>\n",
       "      <td>2020/10/04 23:00:00+00</td>\n",
       "      <td>826</td>\n",
       "      <td>3</td>\n",
       "      <td>Slight</td>\n",
       "      <td>J</td>\n",
       "      <td>Turning movement ¿ unidentified priority</td>\n",
       "      <td>3</td>\n",
       "      <td>1</td>\n",
       "      <td>0</td>\n",
       "      <td>0</td>\n",
       "      <td>0</td>\n",
       "      <td>0</td>\n",
       "      <td>0</td>\n",
       "      <td>360890</td>\n",
       "      <td>174810</td>\n",
       "      <td>CARS</td>\n",
       "    </tr>\n",
       "    <tr>\n",
       "      <th>4263</th>\n",
       "      <td>4264</td>\n",
       "      <td>2020/10/04 23:00:00+00</td>\n",
       "      <td>1029</td>\n",
       "      <td>3</td>\n",
       "      <td>Slight</td>\n",
       "      <td>A</td>\n",
       "      <td>Adult pedestrian</td>\n",
       "      <td>1</td>\n",
       "      <td>1</td>\n",
       "      <td>1</td>\n",
       "      <td>0</td>\n",
       "      <td>0</td>\n",
       "      <td>0</td>\n",
       "      <td>0</td>\n",
       "      <td>360981</td>\n",
       "      <td>173784</td>\n",
       "      <td>A</td>\n",
       "    </tr>\n",
       "    <tr>\n",
       "      <th>4264</th>\n",
       "      <td>4265</td>\n",
       "      <td>2020/10/05 23:00:00+00</td>\n",
       "      <td>1157</td>\n",
       "      <td>3</td>\n",
       "      <td>Slight</td>\n",
       "      <td>NONE</td>\n",
       "      <td>Other</td>\n",
       "      <td>2</td>\n",
       "      <td>1</td>\n",
       "      <td>0</td>\n",
       "      <td>0</td>\n",
       "      <td>0</td>\n",
       "      <td>0</td>\n",
       "      <td>0</td>\n",
       "      <td>359034</td>\n",
       "      <td>175283</td>\n",
       "      <td>CARS</td>\n",
       "    </tr>\n",
       "  </tbody>\n",
       "</table>\n",
       "</div>"
      ],
      "text/plain": [
       "      OBJECTID                   DATE_  TIME  SEVERITY SEVERITY_DESCRIPTION  \\\n",
       "4260      4261  2021/02/05 00:00:00+00  1911         3               Slight   \n",
       "4261      4262  2020/10/03 23:00:00+00  1100         2              Serious   \n",
       "4262      4263  2020/10/04 23:00:00+00   826         3               Slight   \n",
       "4263      4264  2020/10/04 23:00:00+00  1029         3               Slight   \n",
       "4264      4265  2020/10/05 23:00:00+00  1157         3               Slight   \n",
       "\n",
       "     ACCIDENT_TYPE                      ACCIDENT_DESCRIPTION  VEHICLES  \\\n",
       "4260            NT                              Nose to Tail         3   \n",
       "4261          NONE                                     Other         1   \n",
       "4262             J  Turning movement ¿ unidentified priority         3   \n",
       "4263             A                          Adult pedestrian         1   \n",
       "4264          NONE                                     Other         2   \n",
       "\n",
       "      CASUALTIES  PEDESTRIAN  CYCLES  MCYCLES  CHILDREN  OAPS       X       Y  \\\n",
       "4260           1           0       0        0         0     0  362456  170250   \n",
       "4261           1           0       0        0         0     0  357383  179050   \n",
       "4262           1           0       0        0         0     0  360890  174810   \n",
       "4263           1           1       0        0         0     0  360981  173784   \n",
       "4264           1           0       0        0         0     0  359034  175283   \n",
       "\n",
       "     RENDER  \n",
       "4260   CARS  \n",
       "4261   CARS  \n",
       "4262   CARS  \n",
       "4263      A  \n",
       "4264   CARS  "
      ]
     },
     "execution_count": 3,
     "metadata": {},
     "output_type": "execute_result"
    }
   ],
   "source": [
    "Traffic_data.tail(5) #last 5 rows "
   ]
  },
  {
   "cell_type": "code",
   "execution_count": 4,
   "id": "0e06a470-5f4e-40d6-9b6d-95620d3e42fe",
   "metadata": {
    "tags": []
   },
   "outputs": [
    {
     "data": {
      "text/plain": [
       "RangeIndex(start=0, stop=4265, step=1)"
      ]
     },
     "execution_count": 4,
     "metadata": {},
     "output_type": "execute_result"
    }
   ],
   "source": [
    "Traffic_data.index #index of the dataframe"
   ]
  },
  {
   "cell_type": "markdown",
   "id": "78ae94d3-c229-4add-98f7-4fa19d65b0d3",
   "metadata": {},
   "source": [
    "Printing the number of rows in the Dataframe for each feature"
   ]
  },
  {
   "cell_type": "code",
   "execution_count": 5,
   "id": "7bf04713-b061-47fc-9b8a-ce29581be439",
   "metadata": {
    "tags": []
   },
   "outputs": [
    {
     "name": "stdout",
     "output_type": "stream",
     "text": [
      "OBJECTID: 4265\n",
      "DATE_: 4265\n",
      "TIME: 4265\n",
      "SEVERITY: 4265\n",
      "SEVERITY_DESCRIPTION: 4265\n",
      "ACCIDENT_TYPE: 4265\n",
      "ACCIDENT_DESCRIPTION: 4265\n",
      "VEHICLES: 4265\n",
      "CASUALTIES: 4265\n",
      "PEDESTRIAN: 4265\n",
      "CYCLES: 4265\n",
      "MCYCLES: 4265\n",
      "CHILDREN: 4265\n",
      "OAPS: 4265\n",
      "X: 4265\n",
      "Y:  4265\n",
      "RENDER:  4265\n"
     ]
    }
   ],
   "source": [
    "print(\"OBJECTID: \" + str(len(Traffic_data.index))) # concatecate two strings\n",
    "\n",
    "print(\"DATE_:\", len(Traffic_data.index)) # use two parameters instead\n",
    "\n",
    "print(\"TIME:\", len(Traffic_data.index))\n",
    "\n",
    "print(\"SEVERITY:\", len(Traffic_data.index))\n",
    "\n",
    "print(\"SEVERITY_DESCRIPTION:\", len(Traffic_data.index))\n",
    "\n",
    "print(\"ACCIDENT_TYPE:\", len(Traffic_data.index))\n",
    "\n",
    "print(\"ACCIDENT_DESCRIPTION:\", len(Traffic_data.index))\n",
    "\n",
    "print(\"VEHICLES:\", len(Traffic_data.index))\n",
    "\n",
    "print(\"CASUALTIES:\", len(Traffic_data.index))\n",
    "\n",
    "print(\"PEDESTRIAN:\", len(Traffic_data.index))\n",
    "\n",
    "print(\"CYCLES:\", len(Traffic_data.index))\n",
    "\n",
    "print(\"MCYCLES:\", len(Traffic_data.index))\n",
    "\n",
    "print(\"CHILDREN:\", len(Traffic_data.index))\n",
    "\n",
    "print(\"OAPS:\", len(Traffic_data.index))\n",
    "\n",
    "print(\"X:\", len(Traffic_data.index))\n",
    "\n",
    "print(\"Y: \", len(Traffic_data.index))\n",
    "\n",
    "print(\"RENDER: \", len(Traffic_data.index))\n"
   ]
  },
  {
   "cell_type": "markdown",
   "id": "2542156d-bc28-4f81-9384-24b3a6118211",
   "metadata": {},
   "source": [
    "#### 1.2.Using Graphs to Visualise the distribution of variables"
   ]
  },
  {
   "cell_type": "code",
   "execution_count": 6,
   "id": "d46b567b-eaec-491c-b432-5d6eee7fa5a7",
   "metadata": {
    "tags": []
   },
   "outputs": [
    {
     "data": {
      "image/png": "[encoded data removed]",
      "text/plain": [
       "<Figure size 720x432 with 1 Axes>"
      ]
     },
     "metadata": {
      "needs_background": "light"
     },
     "output_type": "display_data"
    },
    {
     "data": {
      "text/plain": [
       "<AxesSubplot:xlabel='SEVERITY', ylabel='count'>"
      ]
     },
     "execution_count": 6,
     "metadata": {},
     "output_type": "execute_result"
    },
    {
     "data": {
      "image/png": "[encoded data removed]",
      "text/plain": [
       "<Figure size 432x288 with 1 Axes>"
      ]
     },
     "metadata": {
      "needs_background": "light"
     },
     "output_type": "display_data"
    }
   ],
   "source": [
    "plt.figure(figsize=(10, 6))\n",
    "sns.histplot(Traffic_data['SEVERITY'], bins=20, kde=True)\n",
    "plt.title('Distribution of SEVERITY')\n",
    "plt.xlabel('SEVERITY')\n",
    "plt.ylabel('Frequency')\n",
    "plt.show()\n",
    "sns.countplot(x=\"SEVERITY\", data=Traffic_data)"
   ]
  },
  {
   "cell_type": "markdown",
   "id": "bd9f9cb4-afc5-4e38-95b9-533cbaeff530",
   "metadata": {},
   "source": [
    "The data in the figure indicates that the majority of accidents nearly 4,000 are classified as having slight severity. In comparison, there are significantly fewer severe accidents, totaling about 500. Fatal accidents are even rarer, with only about 10 cases reported."
   ]
  },
  {
   "cell_type": "code",
   "execution_count": 7,
   "id": "d8be7dbe-aa1b-497d-83f9-fe8a6d12ca7e",
   "metadata": {
    "tags": []
   },
   "outputs": [
    {
     "data": {
      "image/png": "[encoded data removed]",
      "text/plain": [
       "<Figure size 720x432 with 1 Axes>"
      ]
     },
     "metadata": {
      "needs_background": "light"
     },
     "output_type": "display_data"
    }
   ],
   "source": [
    "plt.figure(figsize=(10, 6))\n",
    "sns.histplot(Traffic_data['ACCIDENT_TYPE'], bins=20, kde=True)\n",
    "plt.title('Distribution of ACCIDENT_TYPE')\n",
    "plt.xlabel('ACCIDENT_TYPE')\n",
    "plt.ylabel('Frequency')\n",
    "plt.show()"
   ]
  },
  {
   "cell_type": "markdown",
   "id": "89826b03-3f29-42a2-957e-f14f55fd9b5f",
   "metadata": {},
   "source": [
    "The graph shows that NK and PV type accidents are the least common. HO, E, C, and O types have slightly higher frequencies, but still relatively low. The most frequent accident types are J and NT, with both occurring approximately 700 times."
   ]
  },
  {
   "cell_type": "code",
   "execution_count": 8,
   "id": "d238f388-5f92-4488-a50a-1a7473f001fd",
   "metadata": {
    "tags": []
   },
   "outputs": [
    {
     "data": {
      "image/png": "[encoded data removed]",
      "text/plain": [
       "<Figure size 720x432 with 1 Axes>"
      ]
     },
     "metadata": {
      "needs_background": "light"
     },
     "output_type": "display_data"
    }
   ],
   "source": [
    "plt.figure(figsize=(10, 6))\n",
    "sns.histplot(Traffic_data['VEHICLES'], bins=20, kde=True)\n",
    "plt.title('Distribution of VEHICLES')\n",
    "plt.xlabel('VEHICLES')\n",
    "plt.ylabel('Frequency')\n",
    "plt.show()"
   ]
  },
  {
   "cell_type": "markdown",
   "id": "7dbd5c30-ca48-44e4-91ec-dfa4070a788d",
   "metadata": {},
   "source": [
    "In the majority of cases (around 3,000) two vehicles are involved in the accidents. The second most common scenario involves just one vehicle, suggesting incidents with pedestrians or other non-vehicle participants. Accidents involving four vehicles are rare, with a frequency of just about 5."
   ]
  },
  {
   "cell_type": "code",
   "execution_count": 9,
   "id": "779d5e49-9ae1-4ccb-9dcd-f23b3e118d8c",
   "metadata": {
    "tags": []
   },
   "outputs": [
    {
     "data": {
      "image/png": "[encoded data removed]",
      "text/plain": [
       "<Figure size 720x432 with 1 Axes>"
      ]
     },
     "metadata": {
      "needs_background": "light"
     },
     "output_type": "display_data"
    },
    {
     "data": {
      "text/plain": [
       "<AxesSubplot:xlabel='PEDESTRIAN', ylabel='count'>"
      ]
     },
     "execution_count": 9,
     "metadata": {},
     "output_type": "execute_result"
    },
    {
     "data": {
      "image/png": "[encoded data removed]",
      "text/plain": [
       "<Figure size 432x288 with 1 Axes>"
      ]
     },
     "metadata": {
      "needs_background": "light"
     },
     "output_type": "display_data"
    }
   ],
   "source": [
    "plt.figure(figsize=(10, 6))\n",
    "sns.histplot(Traffic_data['PEDESTRIAN'], bins=20, kde=True)\n",
    "plt.title('Distribution of PEDESTRIAN')\n",
    "plt.xlabel('PEDESTRIAN')\n",
    "plt.ylabel('Frequency')\n",
    "plt.show()\n",
    "sns.countplot(x=\"PEDESTRIAN\", data=Traffic_data)"
   ]
  },
  {
   "cell_type": "markdown",
   "id": "52081ca8-e971-4b55-b714-9f48da86e108",
   "metadata": {},
   "source": [
    "The graph indicates that accidents involving pedestrians are relatively rare, with a frequency of about 1,000. In contrast, accidents where no pedestrians are involved are far more common, with nearly 3,500 cases."
   ]
  },
  {
   "cell_type": "code",
   "execution_count": 10,
   "id": "c63cb30a-7f72-4c70-afdf-6e6a27df5f0f",
   "metadata": {
    "tags": []
   },
   "outputs": [
    {
     "data": {
      "image/png": "[encoded data removed]",
      "text/plain": [
       "<Figure size 720x432 with 1 Axes>"
      ]
     },
     "metadata": {
      "needs_background": "light"
     },
     "output_type": "display_data"
    },
    {
     "data": {
      "text/plain": [
       "<AxesSubplot:xlabel='CHILDREN', ylabel='count'>"
      ]
     },
     "execution_count": 10,
     "metadata": {},
     "output_type": "execute_result"
    },
    {
     "data": {
      "image/png": "[encoded data removed]",
      "text/plain": [
       "<Figure size 432x288 with 1 Axes>"
      ]
     },
     "metadata": {
      "needs_background": "light"
     },
     "output_type": "display_data"
    }
   ],
   "source": [
    "plt.figure(figsize=(10, 6))\n",
    "sns.histplot(Traffic_data['CHILDREN'], bins=20, kde=True)\n",
    "plt.title('Distribution of CHILDREN')\n",
    "plt.xlabel('CHILDREN')\n",
    "plt.ylabel('Frequency')\n",
    "plt.show()\n",
    "sns.countplot(x=\"CHILDREN\", data=Traffic_data)"
   ]
  },
  {
   "cell_type": "markdown",
   "id": "ed7783c9-421a-4a98-9179-018decfa9a32",
   "metadata": {
    "tags": []
   },
   "source": [
    "The graph indicates that accidents involving children are relatively rare, with a frequency of about 500. In contrast, accidents where no children are involved are far more common, with nearly 4000 cases."
   ]
  },
  {
   "cell_type": "code",
   "execution_count": 11,
   "id": "dbaaea19-62a8-41f2-8a4c-cc44bd8a52c8",
   "metadata": {
    "tags": []
   },
   "outputs": [
    {
     "data": {
      "image/png": "[encoded data removed]",
      "text/plain": [
       "<Figure size 864x432 with 1 Axes>"
      ]
     },
     "metadata": {
      "needs_background": "light"
     },
     "output_type": "display_data"
    }
   ],
   "source": [
    "plt.figure(figsize=(12, 6))\n",
    "sns.countplot(x=\"SEVERITY\", hue=\"ACCIDENT_TYPE\", data=Traffic_data)\n",
    "plt.title('Count of SEVERITY with ACCIDENT_TYPE')\n",
    "plt.xlabel('SEVERITY')\n",
    "plt.ylabel('Count')\n",
    "plt.show()"
   ]
  },
  {
   "cell_type": "markdown",
   "id": "51080ceb-7077-46de-81ce-167c7c4cd228",
   "metadata": {},
   "source": [
    "The graph indicates that most accident types predominantly result in slight severity. However, for fatal accidents, the specific types recorded are A, E, HO, O, and LC."
   ]
  },
  {
   "cell_type": "code",
   "execution_count": 12,
   "id": "ba6f90af-bbac-4399-b597-2366f40c8a27",
   "metadata": {
    "tags": []
   },
   "outputs": [
    {
     "data": {
      "image/png": "[encoded data removed]",
      "text/plain": [
       "<Figure size 864x432 with 1 Axes>"
      ]
     },
     "metadata": {
      "needs_background": "light"
     },
     "output_type": "display_data"
    }
   ],
   "source": [
    "plt.figure(figsize=(12, 6))\n",
    "sns.countplot(x=\"VEHICLES\", hue=\"PEDESTRIAN\", data=Traffic_data)\n",
    "plt.title('Count of VEHICLES with PEDESTRIAN')\n",
    "plt.xlabel('VEHICLES')\n",
    "plt.ylabel('Count')\n",
    "plt.show()"
   ]
  },
  {
   "cell_type": "markdown",
   "id": "a4f45070-99ad-4062-8853-c6f0db692802",
   "metadata": {},
   "source": [
    "The graph shows that the most common scenario involves accidents with zero pedestrians and two vehicles. The second most frequent case involves one pedestrian and one vehicle."
   ]
  },
  {
   "cell_type": "code",
   "execution_count": 13,
   "id": "81ae78eb-05a4-4e9b-8b44-abc183e51067",
   "metadata": {
    "tags": []
   },
   "outputs": [
    {
     "data": {
      "image/png": "[encoded data removed]",
      "text/plain": [
       "<Figure size 864x432 with 1 Axes>"
      ]
     },
     "metadata": {
      "needs_background": "light"
     },
     "output_type": "display_data"
    }
   ],
   "source": [
    "plt.figure(figsize=(12, 6))\n",
    "sns.countplot(x=\"PEDESTRIAN\", hue=\"CHILDREN\", data=Traffic_data)\n",
    "plt.title('Count of PEDESTRIAN with CHILDREN')\n",
    "plt.xlabel('PEDESTRIAN')\n",
    "plt.ylabel('Count')\n",
    "plt.show()"
   ]
  },
  {
   "cell_type": "markdown",
   "id": "4eb0024f-5b76-4456-bf07-7c70ae3109c2",
   "metadata": {},
   "source": [
    "The graph indicates that there are only a few cases involving neither pedestrians nor children (0 pedestrians, 0 children). Similarly, accidents involving only children (specifically two children) and those with three children are also rare. In contrast, cases with one pedestrian exceed 500 in frequency, while incidents with two pedestrians and one child are nearly non-existent."
   ]
  },
  {
   "cell_type": "markdown",
   "id": "0a98bda7-e097-45fc-badc-f10de15c5dc1",
   "metadata": {},
   "source": [
    "Using box plot to identify outlieres"
   ]
  },
  {
   "cell_type": "code",
   "execution_count": 14,
   "id": "4bf01925-7755-45a8-b376-148131ac2477",
   "metadata": {
    "tags": []
   },
   "outputs": [
    {
     "data": {
      "image/png": "[encoded data removed]",
      "text/plain": [
       "<Figure size 432x288 with 1 Axes>"
      ]
     },
     "metadata": {
      "needs_background": "light"
     },
     "output_type": "display_data"
    }
   ],
   "source": [
    "import matplotlib.pyplot as plt\n",
    "sns.boxplot(x='ACCIDENT_TYPE', y='CASUALTIES', data=Traffic_data)\n",
    "plt.title('Casualities by Accident Type')\n",
    "plt.xlabel('Accident Type')\n",
    "plt.ylabel('Number of Casualities')\n",
    "plt.show()"
   ]
  },
  {
   "cell_type": "markdown",
   "id": "667e3c00-53e4-47e0-806d-457dcf9e9af0",
   "metadata": {},
   "source": [
    "Using scatter plot to examine relationship between numerical values"
   ]
  },
  {
   "cell_type": "code",
   "execution_count": 15,
   "id": "d47e2006-0858-4a48-bb73-80e34e5b8828",
   "metadata": {
    "tags": []
   },
   "outputs": [
    {
     "data": {
      "image/png": "[encoded data removed]",
      "text/plain": [
       "<Figure size 432x288 with 1 Axes>"
      ]
     },
     "metadata": {
      "needs_background": "light"
     },
     "output_type": "display_data"
    }
   ],
   "source": [
    "sns.scatterplot(x='VEHICLES', y='CASUALTIES', data=Traffic_data)\n",
    "plt.title('Vehicles vs Casualties')\n",
    "plt.xlabel('Number of Vehicles')\n",
    "plt.ylabel('Number of Casualties')\n",
    "plt.show()"
   ]
  },
  {
   "cell_type": "markdown",
   "id": "2c70a624-76fb-4a66-9e7b-d8b969b16134",
   "metadata": {},
   "source": [
    " Using correlation heat map to identify relationships between numerical values"
   ]
  },
  {
   "cell_type": "code",
   "execution_count": 16,
   "id": "c0d7bf67-f834-47a7-a83d-7ae7ceb6311a",
   "metadata": {
    "tags": []
   },
   "outputs": [
    {
     "data": {
      "image/png": "[encoded data removed]",
      "text/plain": [
       "<Figure size 1080x720 with 2 Axes>"
      ]
     },
     "metadata": {
      "needs_background": "light"
     },
     "output_type": "display_data"
    }
   ],
   "source": [
    "#correlation heat map to identify relationships between numerical values\n",
    "correlation_matrix = Traffic_data.corr() #calculates correlation coefficients\n",
    "plt.figure(figsize=(15, 10))\n",
    "sns.heatmap(correlation_matrix, annot=True, cmap='coolwarm')\n",
    "plt.title('Correlation Heatmap')\n",
    "plt.show()"
   ]
  },
  {
   "cell_type": "markdown",
   "id": "813e9a4c-b67c-4311-a362-199a7b3f7127",
   "metadata": {},
   "source": [
    "Using Line plot for time-based data"
   ]
  },
  {
   "cell_type": "code",
   "execution_count": 17,
   "id": "51bedbca-7f62-4e67-a4f7-0e239220ce39",
   "metadata": {
    "tags": []
   },
   "outputs": [
    {
     "data": {
      "image/png": "[encoded data removed]",
      "text/plain": [
       "<Figure size 432x288 with 1 Axes>"
      ]
     },
     "metadata": {
      "needs_background": "light"
     },
     "output_type": "display_data"
    }
   ],
   "source": [
    "# Line plot for time-based data\n",
    "Traffic_data['DATE_'] = pd.to_datetime(Traffic_data['DATE_'])  # Convert to datetime if needed\n",
    "Traffic_data.set_index('DATE_', inplace=True)  # Set date as index for time-based plotting\n",
    "\n",
    "Traffic_data['CASUALTIES'].resample('M').mean().plot()  # Monthly average\n",
    "plt.title('Average Casualties Over Time')\n",
    "plt.xlabel('Date')\n",
    "plt.ylabel('Average Casualties')\n",
    "plt.show()\n"
   ]
  },
  {
   "cell_type": "markdown",
   "id": "2e36c412-20cc-4ff4-ac96-87400757f54b",
   "metadata": {},
   "source": [
    "##### 1.2.1.Alternative use of histograms for visualisation \n",
    "(Actually I dont need them)"
   ]
  },
  {
   "cell_type": "code",
   "execution_count": 18,
   "id": "d51e9b96-eef7-4f61-9f55-8d0d5a7369a6",
   "metadata": {
    "tags": []
   },
   "outputs": [
    {
     "data": {
      "text/plain": [
       "<AxesSubplot:ylabel='Frequency'>"
      ]
     },
     "execution_count": 18,
     "metadata": {},
     "output_type": "execute_result"
    },
    {
     "data": {
      "image/png": "[encoded data removed]",
      "text/plain": [
       "<Figure size 432x288 with 1 Axes>"
      ]
     },
     "metadata": {
      "needs_background": "light"
     },
     "output_type": "display_data"
    }
   ],
   "source": [
    "Traffic_data[\"SEVERITY\"].plot.hist()"
   ]
  },
  {
   "cell_type": "code",
   "execution_count": 19,
   "id": "1b46eee7-3d2a-4e07-afe3-effd38230c12",
   "metadata": {
    "tags": []
   },
   "outputs": [
    {
     "data": {
      "text/plain": [
       "<AxesSubplot:ylabel='Frequency'>"
      ]
     },
     "execution_count": 19,
     "metadata": {},
     "output_type": "execute_result"
    },
    {
     "data": {
      "image/png": "[encoded data removed]",
      "text/plain": [
       "<Figure size 432x288 with 1 Axes>"
      ]
     },
     "metadata": {
      "needs_background": "light"
     },
     "output_type": "display_data"
    }
   ],
   "source": [
    "Traffic_data[\"CHILDREN\"].plot.hist()"
   ]
  },
  {
   "cell_type": "code",
   "execution_count": 20,
   "id": "583e80c0-130e-42cc-8b58-efa70503e240",
   "metadata": {
    "tags": []
   },
   "outputs": [
    {
     "data": {
      "text/plain": [
       "<AxesSubplot:ylabel='Frequency'>"
      ]
     },
     "execution_count": 20,
     "metadata": {},
     "output_type": "execute_result"
    },
    {
     "data": {
      "image/png": "[encoded data removed]",
      "text/plain": [
       "<Figure size 432x288 with 1 Axes>"
      ]
     },
     "metadata": {
      "needs_background": "light"
     },
     "output_type": "display_data"
    }
   ],
   "source": [
    "Traffic_data[\"PEDESTRIAN\"].plot.hist()"
   ]
  },
  {
   "cell_type": "code",
   "execution_count": 21,
   "id": "1005535c-9db5-4180-91c7-75aaef973bff",
   "metadata": {
    "tags": []
   },
   "outputs": [
    {
     "data": {
      "text/plain": [
       "<AxesSubplot:ylabel='Frequency'>"
      ]
     },
     "execution_count": 21,
     "metadata": {},
     "output_type": "execute_result"
    },
    {
     "data": {
      "image/png": "[encoded data removed]",
      "text/plain": [
       "<Figure size 432x288 with 1 Axes>"
      ]
     },
     "metadata": {
      "needs_background": "light"
     },
     "output_type": "display_data"
    }
   ],
   "source": [
    "Traffic_data[\"VEHICLES\"].plot.hist()"
   ]
  },
  {
   "cell_type": "markdown",
   "id": "a1abdffd-a73f-4a18-9883-d22200d128ee",
   "metadata": {},
   "source": [
    "#### 1.3.Displaying summary statistics for numerical columns\n",
    "    Getting an overview of the data distribution, central tendency, and variability for numerical columns. It can help identify potential outliers, skewness, and general patterns in the numerical data."
   ]
  },
  {
   "cell_type": "code",
   "execution_count": 22,
   "id": "0aea7d06-292f-4d25-bce1-db425ca6c075",
   "metadata": {
    "tags": []
   },
   "outputs": [
    {
     "name": "stdout",
     "output_type": "stream",
     "text": [
      "          OBJECTID         TIME     SEVERITY     VEHICLES   CASUALTIES  \\\n",
      "count  4265.000000  4265.000000  4265.000000  4265.000000  4265.000000   \n",
      "mean   2133.000000  1390.719812     2.896835     1.879015     1.173271   \n",
      "std    1231.343778   522.346563     0.330801     0.606711     0.543371   \n",
      "min       1.000000     1.000000     1.000000     1.000000     1.000000   \n",
      "25%    1067.000000   956.000000     3.000000     2.000000     1.000000   \n",
      "50%    2133.000000  1455.000000     3.000000     2.000000     1.000000   \n",
      "75%    3199.000000  1802.000000     3.000000     2.000000     1.000000   \n",
      "max    4265.000000  2359.000000     3.000000     7.000000     9.000000   \n",
      "\n",
      "        PEDESTRIAN       CYCLES      MCYCLES     CHILDREN         OAPS  \\\n",
      "count  4265.000000  4265.000000  4265.000000  4265.000000  4265.000000   \n",
      "mean      0.203048     0.294725     0.150528     0.087925     0.093083   \n",
      "std       0.417196     0.459048     0.363484     0.316090     0.311613   \n",
      "min       0.000000     0.000000     0.000000     0.000000     0.000000   \n",
      "25%       0.000000     0.000000     0.000000     0.000000     0.000000   \n",
      "50%       0.000000     0.000000     0.000000     0.000000     0.000000   \n",
      "75%       0.000000     1.000000     0.000000     0.000000     0.000000   \n",
      "max       3.000000     2.000000     2.000000     3.000000     3.000000   \n",
      "\n",
      "                   X              Y  \n",
      "count    4265.000000    4265.000000  \n",
      "mean   359346.897304  173670.678546  \n",
      "std      2319.136126    2592.790711  \n",
      "min    351475.000000  167172.000000  \n",
      "25%    358144.000000  172152.000000  \n",
      "50%    359299.000000  173546.000000  \n",
      "75%    360857.000000  175318.000000  \n",
      "max    364562.000000  182646.000000  \n"
     ]
    }
   ],
   "source": [
    "numerical_summary = Traffic_data.describe()  # includes mean, std, min, max, percentiles, etc.\n",
    "print(numerical_summary)"
   ]
  },
  {
   "cell_type": "markdown",
   "id": "3f97ecd0-3962-458b-b71e-0fa11fbfe233",
   "metadata": {},
   "source": [
    "##### Key Insights from the staistics \n",
    "- Severity:\n",
    "  -  Average severity is nearly 3, with most accidents falling within a narrow range (min = 1, max = 3).\n",
    "- Vehicles and Casualties:\n",
    "  - Most accidents involve about 2 vehicles on average, with a maximum of 7.\n",
    "- The average number of casualties per accident is around 1.2, with a maximum of 9.\n",
    "- Pedestrians, Cycles, Motorcycles:\n",
    "  - Low average involvement, indicating that these types of accidents are less frequent.\n",
    "- Turning Movements:\n",
    "  - Occasional incidents involving turning movements, but generally infrequent.\n",
    "Overall, Most accidents involve a low number of vehicles, moderate severity, and a small number of casualties. Incidents involving pedestrians, cycles, and motorcycles are relatively rare."
   ]
  },
  {
   "cell_type": "markdown",
   "id": "8cb425b3-71ea-4c73-a308-04aaebe5486b",
   "metadata": {},
   "source": [
    "#### 1.4.Display summary statistics for categorical columns \n",
    "     This is useful when we want to quickly explore the categorical aspects of the data, such as identifying common categories, counting unique values, and understanding the frequency distribution of specific columns. It can be helpful for data validation, initial data exploration, or preparing data for further analysis. (e.g., count of unique values, mode, etc.)"
   ]
  },
  {
   "cell_type": "code",
   "execution_count": 23,
   "id": "31bfb472-fb93-48c0-8cec-7b75dbc58cde",
   "metadata": {
    "tags": []
   },
   "outputs": [
    {
     "name": "stdout",
     "output_type": "stream",
     "text": [
      "       SEVERITY_DESCRIPTION ACCIDENT_TYPE  \\\n",
      "count                  4265          4265   \n",
      "unique                    3            13   \n",
      "top                  Slight             J   \n",
      "freq                   3861           728   \n",
      "\n",
      "                            ACCIDENT_DESCRIPTION RENDER  \n",
      "count                                       4265   4265  \n",
      "unique                                        13      6  \n",
      "top     Turning movement ¿ unidentified priority   CARS  \n",
      "freq                                         728   1666  \n"
     ]
    }
   ],
   "source": [
    "categorical_summary = Traffic_data.describe(include=[object])\n",
    "print(categorical_summary)"
   ]
  },
  {
   "cell_type": "markdown",
   "id": "22ced802-a2a1-414c-a402-57c25cfc4597",
   "metadata": {},
   "source": [
    "- DATE_: There are 1580 unique dates/times.\n",
    "  - The most common date is \"2018/04/19 23:00:00+00\", which occurs 12 times.\n",
    "- SEVERITY_DESCRIPTION\n",
    "  - The most common severity description is \"Slight\", occurring 3861 times. There are 3 unique severity levels.\n",
    "- ACCIDENT_TYPE: \n",
    "  - There are 13 unique accident types. The most common is \"J\", occurring 728 times.\n",
    "- ACCIDENT_DESCRIPTION: \n",
    "  - This has 13 unique descriptions. The most common is \"Turning movement - unidentified priority\", with a frequency of 728.\n",
    "- RENDER:\n",
    "  - The most frequent outcome is \"CARS\", occurring 1666 times. There are 6 unique outcomes."
   ]
  },
  {
   "cell_type": "markdown",
   "id": "c1a91ba5-7194-4908-9d4a-d7c4ca78bd7b",
   "metadata": {},
   "source": [
    "#### 1.5.Using Correlation matrix \n",
    "    A correlation matrix shows the relationships between pairs of numerical variables, typically represented by correlation coefficients. The correlation coefficient is a value between -1 and 1, indicating:\n",
    "- 1: Perfect positive correlation (as one variable increases, the other also increases).\n",
    "- -1: Perfect negative correlation (as one variable increases, the other decreases).\n",
    "- 0: No correlation (the variables do not have a linear relationship)."
   ]
  },
  {
   "cell_type": "code",
   "execution_count": 24,
   "id": "614dd8ef-ecdc-4200-ad58-0ed0ccb7e1bb",
   "metadata": {
    "tags": []
   },
   "outputs": [
    {
     "name": "stdout",
     "output_type": "stream",
     "text": [
      "            OBJECTID      TIME  SEVERITY  VEHICLES  CASUALTIES  PEDESTRIAN  \\\n",
      "OBJECTID    1.000000  0.023990  0.007292 -0.012844   -0.045119   -0.016899   \n",
      "TIME        0.023990  1.000000 -0.007606  0.024991    0.042760   -0.007616   \n",
      "SEVERITY    0.007292 -0.007606  1.000000  0.060490   -0.032306   -0.084386   \n",
      "VEHICLES   -0.012844  0.024991  0.060490  1.000000    0.159640   -0.640444   \n",
      "CASUALTIES -0.045119  0.042760 -0.032306  0.159640    1.000000   -0.064196   \n",
      "PEDESTRIAN -0.016899 -0.007616 -0.084386 -0.640444   -0.064196    1.000000   \n",
      "CYCLES     -0.017008 -0.036675  0.030392  0.128901   -0.175634   -0.278261   \n",
      "MCYCLES     0.022089  0.054527 -0.063912  0.067712   -0.064405   -0.144379   \n",
      "CHILDREN    0.013321  0.018015  0.041913 -0.124284    0.273122    0.209598   \n",
      "OAPS       -0.021607 -0.019841 -0.079727 -0.004923    0.174811    0.071058   \n",
      "X           0.004027  0.027350  0.033258  0.017646   -0.008753    0.013087   \n",
      "Y           0.038688 -0.023087  0.018448  0.045616    0.007340   -0.033944   \n",
      "\n",
      "              CYCLES   MCYCLES  CHILDREN      OAPS         X         Y  \n",
      "OBJECTID   -0.017008  0.022089  0.013321 -0.021607  0.004027  0.038688  \n",
      "TIME       -0.036675  0.054527  0.018015 -0.019841  0.027350 -0.023087  \n",
      "SEVERITY    0.030392 -0.063912  0.041913 -0.079727  0.033258  0.018448  \n",
      "VEHICLES    0.128901  0.067712 -0.124284 -0.004923  0.017646  0.045616  \n",
      "CASUALTIES -0.175634 -0.064405  0.273122  0.174811 -0.008753  0.007340  \n",
      "PEDESTRIAN -0.278261 -0.144379  0.209598  0.071058  0.013087 -0.033944  \n",
      "CYCLES      1.000000 -0.227995 -0.078424 -0.109855 -0.027259  0.026482  \n",
      "MCYCLES    -0.227995  1.000000 -0.092768 -0.053336  0.010915 -0.014228  \n",
      "CHILDREN   -0.078424 -0.092768  1.000000 -0.042634  0.010567 -0.061403  \n",
      "OAPS       -0.109855 -0.053336 -0.042634  1.000000  0.009007 -0.015564  \n",
      "X          -0.027259  0.010915  0.010567  0.009007  1.000000 -0.196275  \n",
      "Y           0.026482 -0.014228 -0.061403 -0.015564 -0.196275  1.000000  \n"
     ]
    }
   ],
   "source": [
    "corr_matrix = Traffic_data.corr()  # calculates correlations\n",
    "print(corr_matrix)  "
   ]
  },
  {
   "cell_type": "markdown",
   "id": "42824752-5bf3-4a6a-accb-ba82b7adac01",
   "metadata": {},
   "source": [
    " - Positive Correlation:\n",
    "   - VEHICLES and CASUALTIES (0.159640) have a slight positive correlation, indicating that more vehicles tend to mean more casualties.\n",
    " - Negative Correlation:\n",
    "   - VEHICLES and PEDESTRIAN (-0.640444) have a strong negative correlation, suggesting that more vehicles often mean fewer pedestrians involved.\n",
    " - Low or No Correlation:\n",
    "   - OBJECTID has almost no correlation with other columns.\n",
    "   - X and Y, representing possible spatial coordinates, also show minimal correlation with other factors."
   ]
  },
  {
   "cell_type": "code",
   "execution_count": 25,
   "id": "ddbbbf44-9925-4d84-8db0-33ae6f84890d",
   "metadata": {
    "tags": []
   },
   "outputs": [
    {
     "name": "stdout",
     "output_type": "stream",
     "text": [
      "<class 'pandas.core.frame.DataFrame'>\n",
      "DatetimeIndex: 4265 entries, 2017-02-02 00:00:00+00:00 to 2020-10-05 23:00:00+00:00\n",
      "Data columns (total 16 columns):\n",
      " #   Column                Non-Null Count  Dtype \n",
      "---  ------                --------------  ----- \n",
      " 0   OBJECTID              4265 non-null   int64 \n",
      " 1   TIME                  4265 non-null   int64 \n",
      " 2   SEVERITY              4265 non-null   int64 \n",
      " 3   SEVERITY_DESCRIPTION  4265 non-null   object\n",
      " 4   ACCIDENT_TYPE         4265 non-null   object\n",
      " 5   ACCIDENT_DESCRIPTION  4265 non-null   object\n",
      " 6   VEHICLES              4265 non-null   int64 \n",
      " 7   CASUALTIES            4265 non-null   int64 \n",
      " 8   PEDESTRIAN            4265 non-null   int64 \n",
      " 9   CYCLES                4265 non-null   int64 \n",
      " 10  MCYCLES               4265 non-null   int64 \n",
      " 11  CHILDREN              4265 non-null   int64 \n",
      " 12  OAPS                  4265 non-null   int64 \n",
      " 13  X                     4265 non-null   int64 \n",
      " 14  Y                     4265 non-null   int64 \n",
      " 15  RENDER                4265 non-null   object\n",
      "dtypes: int64(12), object(4)\n",
      "memory usage: 566.4+ KB\n"
     ]
    }
   ],
   "source": [
    "Traffic_data.info()"
   ]
  },
  {
   "cell_type": "markdown",
   "id": "ce311614-d250-43de-ad0c-65bbcda222f9",
   "metadata": {
    "tags": []
   },
   "source": [
    "## 2.DATA PREPROCESSING"
   ]
  },
  {
   "cell_type": "markdown",
   "id": "98caa8e7-05e3-4af4-ab26-33cb5e0f27d2",
   "metadata": {},
   "source": [
    "#### 2.1.Feature and Target Selection \n",
    "    The target variable we are trying to predict is 'SEVERITY' which contains three different integer values representing different levels of accident severity. We are creating binary classifications, so we are converting 'SEVERITY' into separate binary features to represent 'slight', 'severe', 'fatal' accidents.\n"
   ]
  },
  {
   "cell_type": "code",
   "execution_count": 26,
   "id": "212501db-094e-42be-8d95-5b80047af05a",
   "metadata": {
    "tags": []
   },
   "outputs": [],
   "source": [
    "#Binary Conversion for severity\n",
    "Traffic_data['IS_SLIGHT'] = (Traffic_data['SEVERITY']==1).astype(int)  # Adjusting integer value for 'slight'\n",
    "Traffic_data['IS_SEVERE'] = (Traffic_data['SEVERITY']==1).astype(int)  # Adjusting integer value for 'severe'\n",
    "Traffic_data['IS_FATAL'] = (Traffic_data['SEVERITY']==1).astype(int)  # Adjusting integer value for 'fatal'"
   ]
  },
  {
   "cell_type": "code",
   "execution_count": 27,
   "id": "74e4e51f-621f-4ec5-ab5d-aec3153554c2",
   "metadata": {
    "tags": []
   },
   "outputs": [],
   "source": [
    "# Example feature selection\n",
    "features = [\n",
    "    'DATE_',  # Date of the accident\n",
    "    'TIME',   # Time of the accident\n",
    "    'ACCIDENT_TYPE',  # Type of accident\n",
    "    'VEHICLES',       # Number of vehicles involved\n",
    "    'CASUALTIES',     # Number of casualties\n",
    "    'PEDESTRIAN',     # Whether there were pedestrians\n",
    "    'CYCLES',         # Number of cycles involved\n",
    "    'MCYCLES',        # Number of motorcycles involved\n",
    "    'CHILDREN',       # Presence of children\n",
    "    'OAPS',           # Presence of elderly people (old age pensioners)\n",
    "    'X',              # X-coordinate (location)\n",
    "    'Y'               # Y-coordinate (location)\n",
    "]\n"
   ]
  },
  {
   "cell_type": "markdown",
   "id": "d2e0a9b4-860b-4022-a2f5-a5325a30230e",
   "metadata": {},
   "source": [
    "#### 2.2.Checking for Data Imbalance \n",
    "  Data imbalance occurs when some classes in the target variable are overrepresented compared to others, which can lead to biased models. We can check it by assessing class distribution in that target variable, calculating the count of each class. Visualization of the distribution attached."
   ]
  },
  {
   "cell_type": "code",
   "execution_count": 28,
   "id": "9055488e-ac2a-4be0-8f78-05de8819b40a",
   "metadata": {
    "tags": []
   },
   "outputs": [
    {
     "data": {
      "image/png": "[encoded data removed]",
      "text/plain": [
       "<Figure size 432x288 with 1 Axes>"
      ]
     },
     "metadata": {
      "needs_background": "light"
     },
     "output_type": "display_data"
    },
    {
     "name": "stdout",
     "output_type": "stream",
     "text": [
      "3    3861\n",
      "2     368\n",
      "1      36\n",
      "Name: SEVERITY, dtype: int64\n"
     ]
    }
   ],
   "source": [
    "import seaborn as sns\n",
    "import matplotlib.pyplot as plt\n",
    "\n",
    "# Plot the class distribution for a target variable\n",
    "sns.countplot(x='SEVERITY', data=Traffic_data)\n",
    "plt.title('Class Distribution for SEVERITY')\n",
    "plt.xlabel('Severity')\n",
    "plt.ylabel('Count')\n",
    "plt.show()\n",
    "\n",
    "# If your target variable is binary or multi-class\n",
    "print(Traffic_data['SEVERITY'].value_counts())\n"
   ]
  },
  {
   "cell_type": "markdown",
   "id": "42c5c923-e5b5-4015-8c55-ee867174d31e",
   "metadata": {},
   "source": [
    "Based on the result, there is a significant data imbalance with different numbers of instances in the targer variable, which could affect the performance of the machine learning model. So, I am going to use resampling, by upsampling the minority classes to increase their representation in the dataset:"
   ]
  },
  {
   "cell_type": "code",
   "execution_count": 29,
   "id": "c1da7126-f769-457d-9243-872a20a47452",
   "metadata": {
    "tags": []
   },
   "outputs": [
    {
     "name": "stdout",
     "output_type": "stream",
     "text": [
      "1    3861\n",
      "2    3861\n",
      "3    3861\n",
      "Name: SEVERITY, dtype: int64\n"
     ]
    }
   ],
   "source": [
    "from sklearn.utils import resample\n",
    "\n",
    "# Upsample minority classes\n",
    "class1 = Traffic_data[Traffic_data['SEVERITY'] == 1]\n",
    "class2 = Traffic_data[Traffic_data['SEVERITY'] == 2]\n",
    "class3 = Traffic_data[Traffic_data['SEVERITY'] == 3]\n",
    "\n",
    "# Upsample minority classes to match the count of the majority class (Class 3)\n",
    "class1_upsampled = resample(class1, replace=True, n_samples=len(class3), random_state=42)\n",
    "class2_upsampled = resample(class2, replace=True, n_samples=len(class3), random_state=42)\n",
    "\n",
    "# Combine upsampled classes with majority class\n",
    "upsampled_data = pd.concat([class1_upsampled, class2_upsampled, class3])\n",
    "\n",
    "# Check the new class distribution\n",
    "print(upsampled_data['SEVERITY'].value_counts())\n"
   ]
  },
  {
   "cell_type": "markdown",
   "id": "7007450f-ed18-4f36-b622-6cadbaaf8845",
   "metadata": {},
   "source": [
    "The output now indicates that the data is perfectly balanced with each class having the same number of instances (3861 for each class)"
   ]
  },
  {
   "cell_type": "markdown",
   "id": "134eaf89-6571-4a8c-aba1-1cbfd46e5727",
   "metadata": {},
   "source": [
    "#### 2.3.Cleaning with null values "
   ]
  },
  {
   "cell_type": "code",
   "execution_count": 30,
   "id": "1b61118c-f807-4c0a-89fa-465ad5e63778",
   "metadata": {
    "tags": []
   },
   "outputs": [
    {
     "data": {
      "text/html": [
       "<div>\n",
       "<style scoped>\n",
       "    .dataframe tbody tr th:only-of-type {\n",
       "        vertical-align: middle;\n",
       "    }\n",
       "\n",
       "    .dataframe tbody tr th {\n",
       "        vertical-align: top;\n",
       "    }\n",
       "\n",
       "    .dataframe thead th {\n",
       "        text-align: right;\n",
       "    }\n",
       "</style>\n",
       "<table border=\"1\" class=\"dataframe\">\n",
       "  <thead>\n",
       "    <tr style=\"text-align: right;\">\n",
       "      <th></th>\n",
       "      <th>OBJECTID</th>\n",
       "      <th>TIME</th>\n",
       "      <th>SEVERITY</th>\n",
       "      <th>SEVERITY_DESCRIPTION</th>\n",
       "      <th>ACCIDENT_TYPE</th>\n",
       "      <th>ACCIDENT_DESCRIPTION</th>\n",
       "      <th>VEHICLES</th>\n",
       "      <th>CASUALTIES</th>\n",
       "      <th>PEDESTRIAN</th>\n",
       "      <th>CYCLES</th>\n",
       "      <th>MCYCLES</th>\n",
       "      <th>CHILDREN</th>\n",
       "      <th>OAPS</th>\n",
       "      <th>X</th>\n",
       "      <th>Y</th>\n",
       "      <th>RENDER</th>\n",
       "      <th>IS_SLIGHT</th>\n",
       "      <th>IS_SEVERE</th>\n",
       "      <th>IS_FATAL</th>\n",
       "    </tr>\n",
       "    <tr>\n",
       "      <th>DATE_</th>\n",
       "      <th></th>\n",
       "      <th></th>\n",
       "      <th></th>\n",
       "      <th></th>\n",
       "      <th></th>\n",
       "      <th></th>\n",
       "      <th></th>\n",
       "      <th></th>\n",
       "      <th></th>\n",
       "      <th></th>\n",
       "      <th></th>\n",
       "      <th></th>\n",
       "      <th></th>\n",
       "      <th></th>\n",
       "      <th></th>\n",
       "      <th></th>\n",
       "      <th></th>\n",
       "      <th></th>\n",
       "      <th></th>\n",
       "    </tr>\n",
       "  </thead>\n",
       "  <tbody>\n",
       "    <tr>\n",
       "      <th>2017-02-02 00:00:00+00:00</th>\n",
       "      <td>False</td>\n",
       "      <td>False</td>\n",
       "      <td>False</td>\n",
       "      <td>False</td>\n",
       "      <td>False</td>\n",
       "      <td>False</td>\n",
       "      <td>False</td>\n",
       "      <td>False</td>\n",
       "      <td>False</td>\n",
       "      <td>False</td>\n",
       "      <td>False</td>\n",
       "      <td>False</td>\n",
       "      <td>False</td>\n",
       "      <td>False</td>\n",
       "      <td>False</td>\n",
       "      <td>False</td>\n",
       "      <td>False</td>\n",
       "      <td>False</td>\n",
       "      <td>False</td>\n",
       "    </tr>\n",
       "    <tr>\n",
       "      <th>2017-02-02 00:00:00+00:00</th>\n",
       "      <td>False</td>\n",
       "      <td>False</td>\n",
       "      <td>False</td>\n",
       "      <td>False</td>\n",
       "      <td>False</td>\n",
       "      <td>False</td>\n",
       "      <td>False</td>\n",
       "      <td>False</td>\n",
       "      <td>False</td>\n",
       "      <td>False</td>\n",
       "      <td>False</td>\n",
       "      <td>False</td>\n",
       "      <td>False</td>\n",
       "      <td>False</td>\n",
       "      <td>False</td>\n",
       "      <td>False</td>\n",
       "      <td>False</td>\n",
       "      <td>False</td>\n",
       "      <td>False</td>\n",
       "    </tr>\n",
       "    <tr>\n",
       "      <th>2017-02-03 00:00:00+00:00</th>\n",
       "      <td>False</td>\n",
       "      <td>False</td>\n",
       "      <td>False</td>\n",
       "      <td>False</td>\n",
       "      <td>False</td>\n",
       "      <td>False</td>\n",
       "      <td>False</td>\n",
       "      <td>False</td>\n",
       "      <td>False</td>\n",
       "      <td>False</td>\n",
       "      <td>False</td>\n",
       "      <td>False</td>\n",
       "      <td>False</td>\n",
       "      <td>False</td>\n",
       "      <td>False</td>\n",
       "      <td>False</td>\n",
       "      <td>False</td>\n",
       "      <td>False</td>\n",
       "      <td>False</td>\n",
       "    </tr>\n",
       "    <tr>\n",
       "      <th>2017-02-03 00:00:00+00:00</th>\n",
       "      <td>False</td>\n",
       "      <td>False</td>\n",
       "      <td>False</td>\n",
       "      <td>False</td>\n",
       "      <td>False</td>\n",
       "      <td>False</td>\n",
       "      <td>False</td>\n",
       "      <td>False</td>\n",
       "      <td>False</td>\n",
       "      <td>False</td>\n",
       "      <td>False</td>\n",
       "      <td>False</td>\n",
       "      <td>False</td>\n",
       "      <td>False</td>\n",
       "      <td>False</td>\n",
       "      <td>False</td>\n",
       "      <td>False</td>\n",
       "      <td>False</td>\n",
       "      <td>False</td>\n",
       "    </tr>\n",
       "    <tr>\n",
       "      <th>2017-01-17 00:00:00+00:00</th>\n",
       "      <td>False</td>\n",
       "      <td>False</td>\n",
       "      <td>False</td>\n",
       "      <td>False</td>\n",
       "      <td>False</td>\n",
       "      <td>False</td>\n",
       "      <td>False</td>\n",
       "      <td>False</td>\n",
       "      <td>False</td>\n",
       "      <td>False</td>\n",
       "      <td>False</td>\n",
       "      <td>False</td>\n",
       "      <td>False</td>\n",
       "      <td>False</td>\n",
       "      <td>False</td>\n",
       "      <td>False</td>\n",
       "      <td>False</td>\n",
       "      <td>False</td>\n",
       "      <td>False</td>\n",
       "    </tr>\n",
       "    <tr>\n",
       "      <th>...</th>\n",
       "      <td>...</td>\n",
       "      <td>...</td>\n",
       "      <td>...</td>\n",
       "      <td>...</td>\n",
       "      <td>...</td>\n",
       "      <td>...</td>\n",
       "      <td>...</td>\n",
       "      <td>...</td>\n",
       "      <td>...</td>\n",
       "      <td>...</td>\n",
       "      <td>...</td>\n",
       "      <td>...</td>\n",
       "      <td>...</td>\n",
       "      <td>...</td>\n",
       "      <td>...</td>\n",
       "      <td>...</td>\n",
       "      <td>...</td>\n",
       "      <td>...</td>\n",
       "      <td>...</td>\n",
       "    </tr>\n",
       "    <tr>\n",
       "      <th>2021-02-05 00:00:00+00:00</th>\n",
       "      <td>False</td>\n",
       "      <td>False</td>\n",
       "      <td>False</td>\n",
       "      <td>False</td>\n",
       "      <td>False</td>\n",
       "      <td>False</td>\n",
       "      <td>False</td>\n",
       "      <td>False</td>\n",
       "      <td>False</td>\n",
       "      <td>False</td>\n",
       "      <td>False</td>\n",
       "      <td>False</td>\n",
       "      <td>False</td>\n",
       "      <td>False</td>\n",
       "      <td>False</td>\n",
       "      <td>False</td>\n",
       "      <td>False</td>\n",
       "      <td>False</td>\n",
       "      <td>False</td>\n",
       "    </tr>\n",
       "    <tr>\n",
       "      <th>2020-10-03 23:00:00+00:00</th>\n",
       "      <td>False</td>\n",
       "      <td>False</td>\n",
       "      <td>False</td>\n",
       "      <td>False</td>\n",
       "      <td>False</td>\n",
       "      <td>False</td>\n",
       "      <td>False</td>\n",
       "      <td>False</td>\n",
       "      <td>False</td>\n",
       "      <td>False</td>\n",
       "      <td>False</td>\n",
       "      <td>False</td>\n",
       "      <td>False</td>\n",
       "      <td>False</td>\n",
       "      <td>False</td>\n",
       "      <td>False</td>\n",
       "      <td>False</td>\n",
       "      <td>False</td>\n",
       "      <td>False</td>\n",
       "    </tr>\n",
       "    <tr>\n",
       "      <th>2020-10-04 23:00:00+00:00</th>\n",
       "      <td>False</td>\n",
       "      <td>False</td>\n",
       "      <td>False</td>\n",
       "      <td>False</td>\n",
       "      <td>False</td>\n",
       "      <td>False</td>\n",
       "      <td>False</td>\n",
       "      <td>False</td>\n",
       "      <td>False</td>\n",
       "      <td>False</td>\n",
       "      <td>False</td>\n",
       "      <td>False</td>\n",
       "      <td>False</td>\n",
       "      <td>False</td>\n",
       "      <td>False</td>\n",
       "      <td>False</td>\n",
       "      <td>False</td>\n",
       "      <td>False</td>\n",
       "      <td>False</td>\n",
       "    </tr>\n",
       "    <tr>\n",
       "      <th>2020-10-04 23:00:00+00:00</th>\n",
       "      <td>False</td>\n",
       "      <td>False</td>\n",
       "      <td>False</td>\n",
       "      <td>False</td>\n",
       "      <td>False</td>\n",
       "      <td>False</td>\n",
       "      <td>False</td>\n",
       "      <td>False</td>\n",
       "      <td>False</td>\n",
       "      <td>False</td>\n",
       "      <td>False</td>\n",
       "      <td>False</td>\n",
       "      <td>False</td>\n",
       "      <td>False</td>\n",
       "      <td>False</td>\n",
       "      <td>False</td>\n",
       "      <td>False</td>\n",
       "      <td>False</td>\n",
       "      <td>False</td>\n",
       "    </tr>\n",
       "    <tr>\n",
       "      <th>2020-10-05 23:00:00+00:00</th>\n",
       "      <td>False</td>\n",
       "      <td>False</td>\n",
       "      <td>False</td>\n",
       "      <td>False</td>\n",
       "      <td>False</td>\n",
       "      <td>False</td>\n",
       "      <td>False</td>\n",
       "      <td>False</td>\n",
       "      <td>False</td>\n",
       "      <td>False</td>\n",
       "      <td>False</td>\n",
       "      <td>False</td>\n",
       "      <td>False</td>\n",
       "      <td>False</td>\n",
       "      <td>False</td>\n",
       "      <td>False</td>\n",
       "      <td>False</td>\n",
       "      <td>False</td>\n",
       "      <td>False</td>\n",
       "    </tr>\n",
       "  </tbody>\n",
       "</table>\n",
       "<p>4265 rows × 19 columns</p>\n",
       "</div>"
      ],
      "text/plain": [
       "                           OBJECTID   TIME  SEVERITY  SEVERITY_DESCRIPTION  \\\n",
       "DATE_                                                                        \n",
       "2017-02-02 00:00:00+00:00     False  False     False                 False   \n",
       "2017-02-02 00:00:00+00:00     False  False     False                 False   \n",
       "2017-02-03 00:00:00+00:00     False  False     False                 False   \n",
       "2017-02-03 00:00:00+00:00     False  False     False                 False   \n",
       "2017-01-17 00:00:00+00:00     False  False     False                 False   \n",
       "...                             ...    ...       ...                   ...   \n",
       "2021-02-05 00:00:00+00:00     False  False     False                 False   \n",
       "2020-10-03 23:00:00+00:00     False  False     False                 False   \n",
       "2020-10-04 23:00:00+00:00     False  False     False                 False   \n",
       "2020-10-04 23:00:00+00:00     False  False     False                 False   \n",
       "2020-10-05 23:00:00+00:00     False  False     False                 False   \n",
       "\n",
       "                           ACCIDENT_TYPE  ACCIDENT_DESCRIPTION  VEHICLES  \\\n",
       "DATE_                                                                      \n",
       "2017-02-02 00:00:00+00:00          False                 False     False   \n",
       "2017-02-02 00:00:00+00:00          False                 False     False   \n",
       "2017-02-03 00:00:00+00:00          False                 False     False   \n",
       "2017-02-03 00:00:00+00:00          False                 False     False   \n",
       "2017-01-17 00:00:00+00:00          False                 False     False   \n",
       "...                                  ...                   ...       ...   \n",
       "2021-02-05 00:00:00+00:00          False                 False     False   \n",
       "2020-10-03 23:00:00+00:00          False                 False     False   \n",
       "2020-10-04 23:00:00+00:00          False                 False     False   \n",
       "2020-10-04 23:00:00+00:00          False                 False     False   \n",
       "2020-10-05 23:00:00+00:00          False                 False     False   \n",
       "\n",
       "                           CASUALTIES  PEDESTRIAN  CYCLES  MCYCLES  CHILDREN  \\\n",
       "DATE_                                                                          \n",
       "2017-02-02 00:00:00+00:00       False       False   False    False     False   \n",
       "2017-02-02 00:00:00+00:00       False       False   False    False     False   \n",
       "2017-02-03 00:00:00+00:00       False       False   False    False     False   \n",
       "2017-02-03 00:00:00+00:00       False       False   False    False     False   \n",
       "2017-01-17 00:00:00+00:00       False       False   False    False     False   \n",
       "...                               ...         ...     ...      ...       ...   \n",
       "2021-02-05 00:00:00+00:00       False       False   False    False     False   \n",
       "2020-10-03 23:00:00+00:00       False       False   False    False     False   \n",
       "2020-10-04 23:00:00+00:00       False       False   False    False     False   \n",
       "2020-10-04 23:00:00+00:00       False       False   False    False     False   \n",
       "2020-10-05 23:00:00+00:00       False       False   False    False     False   \n",
       "\n",
       "                            OAPS      X      Y  RENDER  IS_SLIGHT  IS_SEVERE  \\\n",
       "DATE_                                                                          \n",
       "2017-02-02 00:00:00+00:00  False  False  False   False      False      False   \n",
       "2017-02-02 00:00:00+00:00  False  False  False   False      False      False   \n",
       "2017-02-03 00:00:00+00:00  False  False  False   False      False      False   \n",
       "2017-02-03 00:00:00+00:00  False  False  False   False      False      False   \n",
       "2017-01-17 00:00:00+00:00  False  False  False   False      False      False   \n",
       "...                          ...    ...    ...     ...        ...        ...   \n",
       "2021-02-05 00:00:00+00:00  False  False  False   False      False      False   \n",
       "2020-10-03 23:00:00+00:00  False  False  False   False      False      False   \n",
       "2020-10-04 23:00:00+00:00  False  False  False   False      False      False   \n",
       "2020-10-04 23:00:00+00:00  False  False  False   False      False      False   \n",
       "2020-10-05 23:00:00+00:00  False  False  False   False      False      False   \n",
       "\n",
       "                           IS_FATAL  \n",
       "DATE_                                \n",
       "2017-02-02 00:00:00+00:00     False  \n",
       "2017-02-02 00:00:00+00:00     False  \n",
       "2017-02-03 00:00:00+00:00     False  \n",
       "2017-02-03 00:00:00+00:00     False  \n",
       "2017-01-17 00:00:00+00:00     False  \n",
       "...                             ...  \n",
       "2021-02-05 00:00:00+00:00     False  \n",
       "2020-10-03 23:00:00+00:00     False  \n",
       "2020-10-04 23:00:00+00:00     False  \n",
       "2020-10-04 23:00:00+00:00     False  \n",
       "2020-10-05 23:00:00+00:00     False  \n",
       "\n",
       "[4265 rows x 19 columns]"
      ]
     },
     "execution_count": 30,
     "metadata": {},
     "output_type": "execute_result"
    }
   ],
   "source": [
    "Traffic_data.isnull()"
   ]
  },
  {
   "cell_type": "markdown",
   "id": "bf3aad88-31e3-4954-b812-5d2ac2379ef8",
   "metadata": {},
   "source": [
    "We don't have any null value to deal with here"
   ]
  },
  {
   "cell_type": "code",
   "execution_count": 31,
   "id": "70b22bf4-5fef-4bf0-925d-0968bf1fea7d",
   "metadata": {
    "tags": []
   },
   "outputs": [
    {
     "data": {
      "text/plain": [
       "OBJECTID                0\n",
       "TIME                    0\n",
       "SEVERITY                0\n",
       "SEVERITY_DESCRIPTION    0\n",
       "ACCIDENT_TYPE           0\n",
       "ACCIDENT_DESCRIPTION    0\n",
       "VEHICLES                0\n",
       "CASUALTIES              0\n",
       "PEDESTRIAN              0\n",
       "CYCLES                  0\n",
       "MCYCLES                 0\n",
       "CHILDREN                0\n",
       "OAPS                    0\n",
       "X                       0\n",
       "Y                       0\n",
       "RENDER                  0\n",
       "IS_SLIGHT               0\n",
       "IS_SEVERE               0\n",
       "IS_FATAL                0\n",
       "dtype: int64"
      ]
     },
     "execution_count": 31,
     "metadata": {},
     "output_type": "execute_result"
    }
   ],
   "source": [
    "Traffic_data.isnull().sum()"
   ]
  },
  {
   "cell_type": "code",
   "execution_count": 32,
   "id": "554be5fb-c7d9-45e5-9509-db22cfe4c1fe",
   "metadata": {
    "tags": []
   },
   "outputs": [
    {
     "data": {
      "text/plain": [
       "<AxesSubplot:ylabel='DATE_'>"
      ]
     },
     "execution_count": 32,
     "metadata": {},
     "output_type": "execute_result"
    },
    {
     "data": {
      "image/png": "[encoded data removed]",
      "text/plain": [
       "<Figure size 432x288 with 2 Axes>"
      ]
     },
     "metadata": {
      "needs_background": "light"
     },
     "output_type": "display_data"
    }
   ],
   "source": [
    "sns.heatmap(Traffic_data.isnull(), yticklabels=False)"
   ]
  },
  {
   "cell_type": "code",
   "execution_count": 33,
   "id": "b642ae47-0b9e-47f8-9bf8-91d4482661ee",
   "metadata": {
    "tags": []
   },
   "outputs": [],
   "source": [
    "#Traffic_data.drop(\"SEVERITY\", axis=1, inplace=True)"
   ]
  },
  {
   "cell_type": "code",
   "execution_count": 34,
   "id": "2f501f87-2708-4e57-97ca-b8b86a7da7f4",
   "metadata": {
    "tags": []
   },
   "outputs": [
    {
     "data": {
      "text/plain": [
       "<AxesSubplot:ylabel='DATE_'>"
      ]
     },
     "execution_count": 34,
     "metadata": {},
     "output_type": "execute_result"
    },
    {
     "data": {
      "image/png": "[encoded data removed]",
      "text/plain": [
       "<Figure size 432x288 with 1 Axes>"
      ]
     },
     "metadata": {
      "needs_background": "light"
     },
     "output_type": "display_data"
    }
   ],
   "source": [
    "sns.heatmap(Traffic_data.isnull(), yticklabels=False, cbar=False)"
   ]
  },
  {
   "cell_type": "markdown",
   "id": "f7c4bb4a-e443-4053-a917-0e905b053eda",
   "metadata": {
    "tags": []
   },
   "source": [
    "#### 2.4.Converting categorial alues into numerical values"
   ]
  },
  {
   "cell_type": "code",
   "execution_count": 35,
   "id": "53ab470f-1356-4c85-b295-8e5aadef0ce0",
   "metadata": {
    "tags": []
   },
   "outputs": [],
   "source": [
    "# one-hot encoding for categorical features\n",
    "severity_description = pd.get_dummies(Traffic_data[\"SEVERITY_DESCRIPTION\"], drop_first=True)\n",
    "accident_type = pd.get_dummies(Traffic_data[\"ACCIDENT_TYPE\"], drop_first=True)\n",
    "accident_description = pd.get_dummies(Traffic_data[\"ACCIDENT_DESCRIPTION\"], drop_first=True)\n",
    "render = pd.get_dummies(Traffic_data[\"RENDER\"], drop_first=True)\n",
    "\n",
    "# Concatenate one-hot encoded data with the original DataFrame\n",
    "Traffic_data = pd.concat([Traffic_data, severity_description, accident_type, accident_description, render], axis=1)\n",
    "\n",
    "# Drop the original categorical columns\n",
    "Traffic_data.drop(['SEVERITY_DESCRIPTION', 'ACCIDENT_TYPE', 'ACCIDENT_DESCRIPTION', 'RENDER'], axis=1, inplace=True)\n"
   ]
  },
  {
   "cell_type": "code",
   "execution_count": 36,
   "id": "daadf6a9-6d17-4644-9f30-d05dadd2e592",
   "metadata": {
    "tags": []
   },
   "outputs": [
    {
     "data": {
      "text/html": [
       "<div>\n",
       "<style scoped>\n",
       "    .dataframe tbody tr th:only-of-type {\n",
       "        vertical-align: middle;\n",
       "    }\n",
       "\n",
       "    .dataframe tbody tr th {\n",
       "        vertical-align: top;\n",
       "    }\n",
       "\n",
       "    .dataframe thead th {\n",
       "        text-align: right;\n",
       "    }\n",
       "</style>\n",
       "<table border=\"1\" class=\"dataframe\">\n",
       "  <thead>\n",
       "    <tr style=\"text-align: right;\">\n",
       "      <th></th>\n",
       "      <th>OBJECTID</th>\n",
       "      <th>TIME</th>\n",
       "      <th>SEVERITY</th>\n",
       "      <th>VEHICLES</th>\n",
       "      <th>CASUALTIES</th>\n",
       "      <th>PEDESTRIAN</th>\n",
       "      <th>CYCLES</th>\n",
       "      <th>MCYCLES</th>\n",
       "      <th>CHILDREN</th>\n",
       "      <th>OAPS</th>\n",
       "      <th>...</th>\n",
       "      <th>Overtaking</th>\n",
       "      <th>Public Service Vehicle (e.g. bus) passenger ¿ no collis</th>\n",
       "      <th>Turning Movement from major road</th>\n",
       "      <th>Turning Movement from minor road</th>\n",
       "      <th>Turning movement ¿ unidentified priority</th>\n",
       "      <th>C</th>\n",
       "      <th>CARS</th>\n",
       "      <th>CYC</th>\n",
       "      <th>E</th>\n",
       "      <th>MCYC</th>\n",
       "    </tr>\n",
       "    <tr>\n",
       "      <th>DATE_</th>\n",
       "      <th></th>\n",
       "      <th></th>\n",
       "      <th></th>\n",
       "      <th></th>\n",
       "      <th></th>\n",
       "      <th></th>\n",
       "      <th></th>\n",
       "      <th></th>\n",
       "      <th></th>\n",
       "      <th></th>\n",
       "      <th></th>\n",
       "      <th></th>\n",
       "      <th></th>\n",
       "      <th></th>\n",
       "      <th></th>\n",
       "      <th></th>\n",
       "      <th></th>\n",
       "      <th></th>\n",
       "      <th></th>\n",
       "      <th></th>\n",
       "      <th></th>\n",
       "    </tr>\n",
       "  </thead>\n",
       "  <tbody>\n",
       "    <tr>\n",
       "      <th>2017-02-02 00:00:00+00:00</th>\n",
       "      <td>1</td>\n",
       "      <td>720</td>\n",
       "      <td>3</td>\n",
       "      <td>2</td>\n",
       "      <td>2</td>\n",
       "      <td>0</td>\n",
       "      <td>1</td>\n",
       "      <td>1</td>\n",
       "      <td>0</td>\n",
       "      <td>0</td>\n",
       "      <td>...</td>\n",
       "      <td>0</td>\n",
       "      <td>0</td>\n",
       "      <td>0</td>\n",
       "      <td>0</td>\n",
       "      <td>0</td>\n",
       "      <td>0</td>\n",
       "      <td>0</td>\n",
       "      <td>1</td>\n",
       "      <td>0</td>\n",
       "      <td>0</td>\n",
       "    </tr>\n",
       "    <tr>\n",
       "      <th>2017-02-02 00:00:00+00:00</th>\n",
       "      <td>2</td>\n",
       "      <td>1803</td>\n",
       "      <td>3</td>\n",
       "      <td>2</td>\n",
       "      <td>1</td>\n",
       "      <td>0</td>\n",
       "      <td>1</td>\n",
       "      <td>0</td>\n",
       "      <td>0</td>\n",
       "      <td>0</td>\n",
       "      <td>...</td>\n",
       "      <td>0</td>\n",
       "      <td>0</td>\n",
       "      <td>0</td>\n",
       "      <td>0</td>\n",
       "      <td>1</td>\n",
       "      <td>0</td>\n",
       "      <td>0</td>\n",
       "      <td>1</td>\n",
       "      <td>0</td>\n",
       "      <td>0</td>\n",
       "    </tr>\n",
       "    <tr>\n",
       "      <th>2017-02-03 00:00:00+00:00</th>\n",
       "      <td>3</td>\n",
       "      <td>2021</td>\n",
       "      <td>3</td>\n",
       "      <td>2</td>\n",
       "      <td>1</td>\n",
       "      <td>0</td>\n",
       "      <td>1</td>\n",
       "      <td>0</td>\n",
       "      <td>0</td>\n",
       "      <td>0</td>\n",
       "      <td>...</td>\n",
       "      <td>0</td>\n",
       "      <td>0</td>\n",
       "      <td>0</td>\n",
       "      <td>1</td>\n",
       "      <td>0</td>\n",
       "      <td>0</td>\n",
       "      <td>0</td>\n",
       "      <td>1</td>\n",
       "      <td>0</td>\n",
       "      <td>0</td>\n",
       "    </tr>\n",
       "    <tr>\n",
       "      <th>2017-02-03 00:00:00+00:00</th>\n",
       "      <td>4</td>\n",
       "      <td>1543</td>\n",
       "      <td>3</td>\n",
       "      <td>2</td>\n",
       "      <td>2</td>\n",
       "      <td>0</td>\n",
       "      <td>0</td>\n",
       "      <td>0</td>\n",
       "      <td>0</td>\n",
       "      <td>0</td>\n",
       "      <td>...</td>\n",
       "      <td>0</td>\n",
       "      <td>0</td>\n",
       "      <td>0</td>\n",
       "      <td>0</td>\n",
       "      <td>0</td>\n",
       "      <td>0</td>\n",
       "      <td>1</td>\n",
       "      <td>0</td>\n",
       "      <td>0</td>\n",
       "      <td>0</td>\n",
       "    </tr>\n",
       "    <tr>\n",
       "      <th>2017-01-17 00:00:00+00:00</th>\n",
       "      <td>5</td>\n",
       "      <td>624</td>\n",
       "      <td>3</td>\n",
       "      <td>1</td>\n",
       "      <td>1</td>\n",
       "      <td>1</td>\n",
       "      <td>0</td>\n",
       "      <td>0</td>\n",
       "      <td>0</td>\n",
       "      <td>0</td>\n",
       "      <td>...</td>\n",
       "      <td>0</td>\n",
       "      <td>0</td>\n",
       "      <td>0</td>\n",
       "      <td>0</td>\n",
       "      <td>0</td>\n",
       "      <td>0</td>\n",
       "      <td>0</td>\n",
       "      <td>0</td>\n",
       "      <td>0</td>\n",
       "      <td>0</td>\n",
       "    </tr>\n",
       "  </tbody>\n",
       "</table>\n",
       "<p>5 rows × 46 columns</p>\n",
       "</div>"
      ],
      "text/plain": [
       "                           OBJECTID  TIME  SEVERITY  VEHICLES  CASUALTIES  \\\n",
       "DATE_                                                                       \n",
       "2017-02-02 00:00:00+00:00         1   720         3         2           2   \n",
       "2017-02-02 00:00:00+00:00         2  1803         3         2           1   \n",
       "2017-02-03 00:00:00+00:00         3  2021         3         2           1   \n",
       "2017-02-03 00:00:00+00:00         4  1543         3         2           2   \n",
       "2017-01-17 00:00:00+00:00         5   624         3         1           1   \n",
       "\n",
       "                           PEDESTRIAN  CYCLES  MCYCLES  CHILDREN  OAPS  ...  \\\n",
       "DATE_                                                                   ...   \n",
       "2017-02-02 00:00:00+00:00           0       1        1         0     0  ...   \n",
       "2017-02-02 00:00:00+00:00           0       1        0         0     0  ...   \n",
       "2017-02-03 00:00:00+00:00           0       1        0         0     0  ...   \n",
       "2017-02-03 00:00:00+00:00           0       0        0         0     0  ...   \n",
       "2017-01-17 00:00:00+00:00           1       0        0         0     0  ...   \n",
       "\n",
       "                           Overtaking  \\\n",
       "DATE_                                   \n",
       "2017-02-02 00:00:00+00:00           0   \n",
       "2017-02-02 00:00:00+00:00           0   \n",
       "2017-02-03 00:00:00+00:00           0   \n",
       "2017-02-03 00:00:00+00:00           0   \n",
       "2017-01-17 00:00:00+00:00           0   \n",
       "\n",
       "                           Public Service Vehicle (e.g. bus) passenger ¿ no collis  \\\n",
       "DATE_                                                                                \n",
       "2017-02-02 00:00:00+00:00                                                  0         \n",
       "2017-02-02 00:00:00+00:00                                                  0         \n",
       "2017-02-03 00:00:00+00:00                                                  0         \n",
       "2017-02-03 00:00:00+00:00                                                  0         \n",
       "2017-01-17 00:00:00+00:00                                                  0         \n",
       "\n",
       "                           Turning Movement from major road  \\\n",
       "DATE_                                                         \n",
       "2017-02-02 00:00:00+00:00                                 0   \n",
       "2017-02-02 00:00:00+00:00                                 0   \n",
       "2017-02-03 00:00:00+00:00                                 0   \n",
       "2017-02-03 00:00:00+00:00                                 0   \n",
       "2017-01-17 00:00:00+00:00                                 0   \n",
       "\n",
       "                           Turning Movement from minor road  \\\n",
       "DATE_                                                         \n",
       "2017-02-02 00:00:00+00:00                                 0   \n",
       "2017-02-02 00:00:00+00:00                                 0   \n",
       "2017-02-03 00:00:00+00:00                                 1   \n",
       "2017-02-03 00:00:00+00:00                                 0   \n",
       "2017-01-17 00:00:00+00:00                                 0   \n",
       "\n",
       "                           Turning movement ¿ unidentified priority  C  CARS  \\\n",
       "DATE_                                                                          \n",
       "2017-02-02 00:00:00+00:00                                         0  0     0   \n",
       "2017-02-02 00:00:00+00:00                                         1  0     0   \n",
       "2017-02-03 00:00:00+00:00                                         0  0     0   \n",
       "2017-02-03 00:00:00+00:00                                         0  0     1   \n",
       "2017-01-17 00:00:00+00:00                                         0  0     0   \n",
       "\n",
       "                           CYC  E  MCYC  \n",
       "DATE_                                    \n",
       "2017-02-02 00:00:00+00:00    1  0     0  \n",
       "2017-02-02 00:00:00+00:00    1  0     0  \n",
       "2017-02-03 00:00:00+00:00    1  0     0  \n",
       "2017-02-03 00:00:00+00:00    0  0     0  \n",
       "2017-01-17 00:00:00+00:00    0  0     0  \n",
       "\n",
       "[5 rows x 46 columns]"
      ]
     },
     "execution_count": 36,
     "metadata": {},
     "output_type": "execute_result"
    }
   ],
   "source": [
    "Traffic_data.head(5)"
   ]
  },
  {
   "cell_type": "markdown",
   "id": "2302a5ff-d8ee-44f0-911c-195c25f9f52f",
   "metadata": {},
   "source": [
    "#### 2.5.Dropping Unused or Redundant Columns"
   ]
  },
  {
   "cell_type": "markdown",
   "id": "6e2a2c8a-0fc3-4aaf-aea1-c99ce7527140",
   "metadata": {
    "tags": []
   },
   "source": [
    "column_to_drop = 'DATE_' \n",
    "Traffic_data.drop('DATE_', axis=1, inplace=True)\n",
    "print('Columns after dropping:')\n",
    "print(Traffic_data.columns)"
   ]
  },
  {
   "cell_type": "markdown",
   "id": "ef0989e0-1482-4617-826e-42b4e69c2da0",
   "metadata": {
    "tags": []
   },
   "source": [
    "#### 2.6.Fixing Data Errors\n",
    "    Identifying and correcting data anomlies or inconsistencies. This step includes outlier detection, data type correction, and ensuring numerical consistency."
   ]
  },
  {
   "cell_type": "code",
   "execution_count": 37,
   "id": "b5f9f786-9fba-4c5d-87a6-b4d76a2d191a",
   "metadata": {
    "tags": []
   },
   "outputs": [
    {
     "data": {
      "image/png": "[encoded data removed]",
      "text/plain": [
       "<Figure size 432x288 with 1 Axes>"
      ]
     },
     "metadata": {
      "needs_background": "light"
     },
     "output_type": "display_data"
    }
   ],
   "source": [
    "import matplotlib.pyplot as plt\n",
    "import seaborn as sns\n",
    "\n",
    "# box plot for outlier detection\n",
    "sns.boxplot(x=Traffic_data['VEHICLES'])  \n",
    "plt.show()\n"
   ]
  },
  {
   "cell_type": "markdown",
   "id": "ffebde4a-f7d4-4af7-bc99-0ae0ed96812c",
   "metadata": {},
   "source": [
    "#### 2.7.Feature Scaling ( Normalization )\n",
    "    'StandardScaler' standardizes numerical features by removing the mean and scaling to unit variance.After standardization, each feature will have a mean of approximately 0 and a standard deviation of approximately 1 which is essential in machine learning algorithms."
   ]
  },
  {
   "cell_type": "code",
   "execution_count": 38,
   "id": "1305d444-fc19-4937-b8aa-39ab47bb1eae",
   "metadata": {
    "tags": []
   },
   "outputs": [],
   "source": [
    "from sklearn.preprocessing import StandardScaler\n",
    "\n",
    "scaled_features = StandardScaler().fit_transform(\n",
    "    Traffic_data[['VEHICLES', 'CASUALTIES', 'TIME', 'PEDESTRIAN', 'CYCLES', 'MCYCLES', 'CHILDREN', 'OAPS', 'X', 'Y']]\n",
    ")"
   ]
  },
  {
   "cell_type": "markdown",
   "id": "65ee6846-38c7-4af5-ac03-a9547e1ee603",
   "metadata": {
    "tags": []
   },
   "source": [
    "#### 2.8.Data Splitting\n",
    "    Before training the model, we need to split the data into training and testing sets.(80% training and 20% testing) using train_test_split. By splitting the data into training and testing sets,we can assess how well a model generalizes to new data, which is crucial for building robust machine learning models.The random_state=42 ensures that the split is reproducible, meaning the same split will occur each time the code is run with this seed."
   ]
  },
  {
   "cell_type": "code",
   "execution_count": 39,
   "id": "477676a9-1bd3-44f8-aeed-b1c19938eaf9",
   "metadata": {
    "tags": []
   },
   "outputs": [],
   "source": [
    "from sklearn.model_selection import train_test_split\n",
    "X = Traffic_data.drop(['SEVERITY'],axis =1) #Dropping the target column\n",
    "y = Traffic_data[['IS_SLIGHT', 'IS_SEVERE', 'IS_FATAL' ]] # using the targets\n",
    "\n",
    "X_train, X_test, y_train, y_test = train_test_split(X,y, test_size=0.2, random_state=42)"
   ]
  },
  {
   "cell_type": "markdown",
   "id": "b7cb610e-7453-4fd2-bffa-db5990193094",
   "metadata": {},
   "source": [
    "#### 2.9.Checking the shape of the train and test sets\n",
    "    Knowing the shape of the data provides information about the number of samples (rows) and features (columns) in the training and testing sets. This helps ensure the correct split and identify any issues with data partitioning.This approach is often used to confirm that the data split was successful and the data has the expected shape and content."
   ]
  },
  {
   "cell_type": "code",
   "execution_count": 40,
   "id": "dc228021-1ac6-4e7a-a63d-326e619c6d43",
   "metadata": {
    "tags": []
   },
   "outputs": [
    {
     "name": "stdout",
     "output_type": "stream",
     "text": [
      "X_train shape: (3412, 45)\n",
      "X_test shape: (853, 45)\n",
      "y_train shape: (3412, 3)\n",
      "y_test shape: (853, 3)\n",
      "First few rows of X_train:\n",
      "                           OBJECTID  TIME  VEHICLES  CASUALTIES  PEDESTRIAN  \\\n",
      "DATE_                                                                         \n",
      "2018-12-13 00:00:00+00:00      1673  1130         2           1           0   \n",
      "2021-01-29 00:00:00+00:00      3963   158         2           1           0   \n",
      "2017-05-08 23:00:00+00:00       193   815         2           1           0   \n",
      "2019-06-13 23:00:00+00:00      2160  2224         2           5           0   \n",
      "2017-09-12 23:00:00+00:00       568  1800         2           1           0   \n",
      "\n",
      "                           CYCLES  MCYCLES  CHILDREN  OAPS       X  ...  \\\n",
      "DATE_                                                               ...   \n",
      "2018-12-13 00:00:00+00:00       0        0         0     0  356856  ...   \n",
      "2021-01-29 00:00:00+00:00       0        0         0     0  360125  ...   \n",
      "2017-05-08 23:00:00+00:00       1        0         0     0  359889  ...   \n",
      "2019-06-13 23:00:00+00:00       0        0         0     0  358195  ...   \n",
      "2017-09-12 23:00:00+00:00       0        0         0     1  357128  ...   \n",
      "\n",
      "                           Overtaking  \\\n",
      "DATE_                                   \n",
      "2018-12-13 00:00:00+00:00           0   \n",
      "2021-01-29 00:00:00+00:00           0   \n",
      "2017-05-08 23:00:00+00:00           0   \n",
      "2019-06-13 23:00:00+00:00           0   \n",
      "2017-09-12 23:00:00+00:00           0   \n",
      "\n",
      "                           Public Service Vehicle (e.g. bus) passenger ¿ no collis  \\\n",
      "DATE_                                                                                \n",
      "2018-12-13 00:00:00+00:00                                                  0         \n",
      "2021-01-29 00:00:00+00:00                                                  0         \n",
      "2017-05-08 23:00:00+00:00                                                  0         \n",
      "2019-06-13 23:00:00+00:00                                                  0         \n",
      "2017-09-12 23:00:00+00:00                                                  0         \n",
      "\n",
      "                           Turning Movement from major road  \\\n",
      "DATE_                                                         \n",
      "2018-12-13 00:00:00+00:00                                 0   \n",
      "2021-01-29 00:00:00+00:00                                 0   \n",
      "2017-05-08 23:00:00+00:00                                 0   \n",
      "2019-06-13 23:00:00+00:00                                 0   \n",
      "2017-09-12 23:00:00+00:00                                 0   \n",
      "\n",
      "                           Turning Movement from minor road  \\\n",
      "DATE_                                                         \n",
      "2018-12-13 00:00:00+00:00                                 1   \n",
      "2021-01-29 00:00:00+00:00                                 0   \n",
      "2017-05-08 23:00:00+00:00                                 1   \n",
      "2019-06-13 23:00:00+00:00                                 1   \n",
      "2017-09-12 23:00:00+00:00                                 0   \n",
      "\n",
      "                           Turning movement ¿ unidentified priority  C  CARS  \\\n",
      "DATE_                                                                          \n",
      "2018-12-13 00:00:00+00:00                                         0  0     1   \n",
      "2021-01-29 00:00:00+00:00                                         1  0     1   \n",
      "2017-05-08 23:00:00+00:00                                         0  0     0   \n",
      "2019-06-13 23:00:00+00:00                                         0  0     1   \n",
      "2017-09-12 23:00:00+00:00                                         0  0     1   \n",
      "\n",
      "                           CYC  E  MCYC  \n",
      "DATE_                                    \n",
      "2018-12-13 00:00:00+00:00    0  0     0  \n",
      "2021-01-29 00:00:00+00:00    0  0     0  \n",
      "2017-05-08 23:00:00+00:00    1  0     0  \n",
      "2019-06-13 23:00:00+00:00    0  0     0  \n",
      "2017-09-12 23:00:00+00:00    0  0     0  \n",
      "\n",
      "[5 rows x 45 columns]\n",
      "First few rows of y_train:\n",
      "                           IS_SLIGHT  IS_SEVERE  IS_FATAL\n",
      "DATE_                                                    \n",
      "2018-12-13 00:00:00+00:00          0          0         0\n",
      "2021-01-29 00:00:00+00:00          0          0         0\n",
      "2017-05-08 23:00:00+00:00          0          0         0\n",
      "2019-06-13 23:00:00+00:00          0          0         0\n",
      "2017-09-12 23:00:00+00:00          0          0         0\n"
     ]
    }
   ],
   "source": [
    "# Check the shape of the train and test sets\n",
    "print(\"X_train shape:\", X_train.shape)\n",
    "print(\"X_test shape:\", X_test.shape)\n",
    "print(\"y_train shape:\", y_train.shape)\n",
    "print(\"y_test shape:\", y_test.shape)\n",
    "\n",
    "# Inspect the first few rows of the training and testing sets\n",
    "print(\"First few rows of X_train:\")\n",
    "print(X_train.head())\n",
    "\n",
    "print(\"First few rows of y_train:\")\n",
    "print(y_train.head())\n"
   ]
  },
  {
   "cell_type": "markdown",
   "id": "9dadad05-21a5-427b-a306-46239a1a9fc1",
   "metadata": {},
   "source": [
    "According to the results:\n",
    "\n",
    "### Shapes\n",
    "- **X_train**: (3412, 45) - 3,412 samples with 45 features (columns).\n",
    "- **X_test**: (853, 45) - 853 samples with 45 features.\n",
    "- **y_train**: (3412, 3) - 3,412 samples with 3 target columns (IS_SLIGHT, IS_SEVERE, IS_FATAL).\n",
    "- **y_test**: (853, 3) - 853 samples with the same 3 target columns.\n",
    "\n",
    "### Sample Data\n",
    "- **X_train (First 5 rows)**\n",
    "  - Features include OBJECTID, TIME, VEHICLES, CASUALTIES, and more, totaling 45 columns.\n",
    "  - Example: OBJECTID, TIME, VEHICLES, CASUALTIES, PEDESTRIAN, etc.\n",
    "\n",
    "- **y_train (First 5 rows)**\n",
    "  - Target columns: IS_SLIGHT, IS_SEVERE, IS_FATAL.\n",
    "  - Example: All zeros, indicating no severe or fatal accidents in this sample.\n",
    "\n",
    "### Summary\n",
    "- The shapes confirm a successful split with 80% for training and 20% for testing.\n",
    "- The first few rows of X_train and y_train show typical features and targets."
   ]
  },
  {
   "cell_type": "code",
   "execution_count": null,
   "id": "fde10fe3-54d6-4951-9cff-d8d589d6a47c",
   "metadata": {},
   "outputs": [],
   "source": []
  }
 ],
 "metadata": {
  "kernelspec": {
   "display_name": "Machine Learning",
   "language": "python",
   "name": "mlenv"
  },
  "language_info": {
   "codemirror_mode": {
    "name": "ipython",
    "version": 3
   },
   "file_extension": ".py",
   "mimetype": "text/x-python",
   "name": "python",
   "nbconvert_exporter": "python",
   "pygments_lexer": "ipython3",
   "version": "3.8.10"
  }
 },
 "nbformat": 4,
 "nbformat_minor": 5
}
